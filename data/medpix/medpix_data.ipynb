{
  "cells": [
    {
      "cell_type": "code",
      "execution_count": 1,
      "metadata": {
        "colab": {
          "base_uri": "https://localhost:8080/"
        },
        "id": "itE7OmTro0kb",
        "outputId": "d3c34466-157c-4557-ab2e-7a14ea37760e"
      },
      "outputs": [
        {
          "name": "stdout",
          "output_type": "stream",
          "text": [
            "Mounted at /content/drive\n"
          ]
        }
      ],
      "source": [
        "# from google.colab import drive\n",
        "# drive.mount('/content/drive')"
      ]
    },
    {
      "cell_type": "code",
      "execution_count": 2,
      "metadata": {
        "colab": {
          "base_uri": "https://localhost:8080/",
          "height": 36
        },
        "id": "Hi4NauTQpud3",
        "outputId": "0c60814e-76af-430d-ed45-b2ce569d79ae"
      },
      "outputs": [
        {
          "data": {
            "application/vnd.google.colaboratory.intrinsic+json": {
              "type": "string"
            },
            "text/plain": [
              "'/content/drive/MyDrive/DAIV_2024_Fall/PromptMRG'"
            ]
          },
          "execution_count": 2,
          "metadata": {},
          "output_type": "execute_result"
        }
      ],
      "source": [
        "# import os\n",
        "# os.chdir('/content/drive/MyDrive/DAIV_2024_Fall/PromptMRG')\n",
        "# %pwd"
      ]
    },
    {
      "cell_type": "code",
      "execution_count": 11,
      "metadata": {
        "id": "Zy04z8wFp3Tw"
      },
      "outputs": [],
      "source": [
        "#!git clone https://github.com/Hyunnji-Lee/PromptMRG.git"
      ]
    },
    {
      "cell_type": "markdown",
      "metadata": {
        "id": "vSo5fHlCGVUm"
      },
      "source": [
        "# medpix_data json파일 만들기"
      ]
    },
    {
      "cell_type": "code",
      "execution_count": 17,
      "metadata": {
        "id": "aNRxDT20p--F"
      },
      "outputs": [],
      "source": [
        "import json\n",
        "\n",
        "Descriptions_file_path = 'Descriptions.json'\n",
        "with open(Descriptions_file_path, 'r', encoding='utf-8') as f:\n",
        "    descriptions_data = json.load(f)\n",
        "\n",
        "Case_file_path = 'Case_topic.json'\n",
        "with open(Case_file_path, 'r', encoding='utf-8') as f:\n",
        "    case_data = json.load(f)"
      ]
    },
    {
      "cell_type": "code",
      "execution_count": 18,
      "metadata": {
        "id": "TV1ZSFdjGqpk"
      },
      "outputs": [],
      "source": [
        "# 흉부 데이터 거르기 (334개)\n",
        "filtered_descriptions = [data for data in descriptions_data if data['Location Category']=='Thorax']"
      ]
    },
    {
      "cell_type": "markdown",
      "metadata": {
        "id": "R_n2ScD2KXkj"
      },
      "source": [
        "### 질병 labels 관련"
      ]
    },
    {
      "cell_type": "code",
      "execution_count": 19,
      "metadata": {
        "id": "Ew0EGT6oLln3"
      },
      "outputs": [],
      "source": [
        "filtered_cases = []\n",
        "id = [description['U_id'] for description in filtered_descriptions]\n",
        "\n",
        "for case in case_data:\n",
        "  if case['U_id'] in id:\n",
        "      filtered_cases.append(case)"
      ]
    },
    {
      "cell_type": "code",
      "execution_count": 20,
      "metadata": {
        "colab": {
          "base_uri": "https://localhost:8080/"
        },
        "id": "6AEO9_c8UAlZ",
        "outputId": "c70396b7-39c2-47c9-e4ae-3be6a5cf7f6e"
      },
      "outputs": [
        {
          "name": "stdout",
          "output_type": "stream",
          "text": [
            "132\n"
          ]
        }
      ],
      "source": [
        "print(len(filtered_cases))"
      ]
    },
    {
      "cell_type": "code",
      "execution_count": 21,
      "metadata": {
        "colab": {
          "base_uri": "https://localhost:8080/"
        },
        "id": "5VabqZtlgEc6",
        "outputId": "45456e89-52d9-45af-a9c4-87669c1e373a"
      },
      "outputs": [
        {
          "name": "stdout",
          "output_type": "stream",
          "text": [
            "['•  PA chest radiograph demonstrates left lung volume loss, silhouetting of the left cardiac border, and Luftsichel sign.\\n\\n•  Lateral chest radiograph shows anterior displacement of the major fissure and elevation of the left mainstem bronchus.\\n\\n•  CT of the chest reveals an obstructing mass and resultant LUL collapse.']\n"
          ]
        }
      ],
      "source": [
        "ex_description = filtered_cases[0]\n",
        "ex_findings = [ex_description[\"Case\"][\"Findings\"]]\n",
        "print(ex_findings)"
      ]
    },
    {
      "cell_type": "code",
      "execution_count": 13,
      "metadata": {
        "colab": {
          "base_uri": "https://localhost:8080/"
        },
        "id": "dXarY4wDjiyY",
        "outputId": "f3054efe-2999-43f8-89fe-ffe890172777"
      },
      "outputs": [
        {
          "name": "stdout",
          "output_type": "stream",
          "text": [
            "tensor([[0, 0, 0, 1, 0, 0, 0, 1, 0, 0, 0, 0, 0, 0]])\n"
          ]
        }
      ],
      "source": [
        "from modules.chexbert import CheXbert\n",
        "import torch\n",
        "\n",
        "checkpoint = r'C:\\Users\\user1\\Desktop\\DAIV_2024_Fall\\PromptMRG\\checkpoints\\stanford\\chexbert\\chexbert.pth'\n",
        "device = 'cuda' if torch.cuda.is_available() else 'cpu'\n",
        "chexbert = CheXbert(checkpoint_path=checkpoint, device=device)\n",
        "output = chexbert(ex_findings)\n",
        "print(output)"
      ]
    },
    {
      "cell_type": "markdown",
      "metadata": {
        "id": "CaQh7chIgAo3"
      },
      "source": [
        "#### case 내 질병 확인용"
      ]
    },
    {
      "cell_type": "code",
      "execution_count": 49,
      "metadata": {
        "colab": {
          "base_uri": "https://localhost:8080/"
        },
        "id": "v3NEPW-_P574",
        "outputId": "4b68cec6-2961-4439-e1d4-0860eec9b13e"
      },
      "outputs": [
        {
          "data": {
            "text/plain": [
              "Counter({'Lung, lobar collapse (left upper lobe)': 1,\n",
              "         'Adenocarcinoma of the Lung': 1,\n",
              "         'Interstital Lung Disease': 1,\n",
              "         'Pericardial cyst': 1,\n",
              "         'Idiopathic Pulmonary Hemosiderosis': 1,\n",
              "         'Pulmonary Embolism': 3,\n",
              "         'thoracic aortic dissection': 1,\n",
              "         'Bronchial Carcinoid': 2,\n",
              "         \"Takayasu's Arteritis\": 1,\n",
              "         'Pulmonary Hamartoma': 2,\n",
              "         'Lung Metastasis': 1,\n",
              "         'Sarcoid': 1,\n",
              "         'Pyopneumothorax': 1,\n",
              "         'Metastatic Adenocarcinoma of the Lung': 1,\n",
              "         'Swyer-James Syndrome': 1,\n",
              "         'Reactivation TB': 1,\n",
              "         'Bronchiectasis - Bronchial Artery Embolization.': 1,\n",
              "         'Pancoast tumor': 1,\n",
              "         'Ascending thoracic aortic aneurysm': 1,\n",
              "         'Pulmonary Embolus': 1,\n",
              "         'Left aortic arch with aberrant right subclavian artery': 3,\n",
              "         'Coarctation of the Aorta': 2,\n",
              "         'Benign Metastasizing Leiomyoma': 1,\n",
              "         'Cryptococcal Pneumonia in an Immunocompetent Host': 1,\n",
              "         'Pneumomediastinum': 1,\n",
              "         'Sand Aspiration': 1,\n",
              "         'Nodular Sclerosing Hodgkin’s Lymphoma': 2,\n",
              "         'Intralobar Pulmonary Sequestration': 2,\n",
              "         'Dilated Pulmonary Artery': 1,\n",
              "         'Mucus Plug': 1,\n",
              "         'Poorly Differentiated Non-Small Cell Lung Carcinoma': 1,\n",
              "         'MEDIASTINAL FIBROSIS': 1,\n",
              "         \"Wegener's Granulomatosis\": 1,\n",
              "         'Usual Interstitial Pneumonia': 1,\n",
              "         'Primary Pulmonary Tuberculosis': 1,\n",
              "         'Aberrant Right Subclavian Artery (ARSA)': 1,\n",
              "         'Abdominal aortic aneurysm': 1,\n",
              "         'Septic Pulmonary Embolism': 1,\n",
              "         'Pneumocystis jiroveci (P. carinii) Pneumonia': 2,\n",
              "         'Metastatic Squamous Cell Lung Cancer with Underlying Idiopathic Pulmonary Fibrosis': 1,\n",
              "         'Absence of IVC': 1,\n",
              "         'Left atrial appendage thrombus': 1,\n",
              "         'Bronchopleural Fistula': 1,\n",
              "         \"Hodgkin's Lymphoma\": 1,\n",
              "         'Patent ductus arteriosus': 1,\n",
              "         'Pulmonary Sarcoidosis': 1,\n",
              "         'Patent Ductus Arteriosus': 1,\n",
              "         'Residual Thymus in Myasthenia Gravis': 1,\n",
              "         'Pancoast Tumor': 1,\n",
              "         'Constrictive pericarditis, calcified pericardium': 1,\n",
              "         'Metastatic breast cancer to lungs - nodules': 1,\n",
              "         'Endobronchial Tumors': 1,\n",
              "         'Solitary Pulmonary Nodule - Calcified Granuloma': 1,\n",
              "         'Lymphangioleiomyomatosis': 1,\n",
              "         'Interstitial Lung Disease': 1,\n",
              "         'Non-small Cell Lung Cancer': 1,\n",
              "         'Sarcoidosis': 1,\n",
              "         'Fibrous tumor of the pleura': 1,\n",
              "         'Lung, Stage IIIB Adenocarcinoma': 1,\n",
              "         'Nonspecific Interstitial Pneumonitis': 1,\n",
              "         'Emphysema': 1,\n",
              "         'Congenital absence of pericardium': 1,\n",
              "         'Classical Hodgkins Lymphoma, nodular sclerosis subtype': 1,\n",
              "         'Pleural Plaques': 1,\n",
              "         'Partial Anomalous Pulmonary Venous Return (PAPVR)': 1,\n",
              "         'Neurofibromatosis NF1, Pulmonary disease': 1,\n",
              "         'Hiatal Hernia': 1,\n",
              "         'Liver metastases from breast cancer.  (Path) Malignant cells derived from adenocarcinoma, favoring metastatic breast carcinoma.': 1,\n",
              "         'Lung abscess (solitary)': 1,\n",
              "         'Embolized Central Venous Catheter': 1,\n",
              "         'Lower Middle Mediastinal Mass/gastric pull through': 1,\n",
              "         'Bronchogenic Carcinoma of the Lung with Metastasis to the Liver': 1,\n",
              "         'Pneumopericardium': 1,\n",
              "         'Azygous Lobe': 1,\n",
              "         'Superior Vena Cava Syndrome': 1,\n",
              "         'VACTERL Syndrome': 1,\n",
              "         'LEFT LOWER LOBE COLLAPSE': 1,\n",
              "         'Aortic Dissection, Aortic Tear': 1,\n",
              "         'Pericardial Effusion with Tamponade': 1,\n",
              "         'Inflammatory Breast Cancer': 1,\n",
              "         'CT Halo Sign': 1,\n",
              "         'Congenitally Corrected Transposition of the Great Vessels': 1,\n",
              "         'Congenital Lobar Emphysema': 1,\n",
              "         'Pulmonary Sequestration': 1,\n",
              "         'Pulmonary embolism': 1,\n",
              "         'Empyema': 2,\n",
              "         'Neurofibroma, likely neurofibromatosis type I.': 1,\n",
              "         'Anterior mediastinal germ cell tumor, nonseminomatous': 1,\n",
              "         'Pulomary Embolism': 1,\n",
              "         'Non-small cell (squamous cell) carcinoma of the lung (RLL); T3N2M0, corresponding to stage III-A': 1,\n",
              "         'Malignant Embryonal Rhabdomyosarcoma': 1,\n",
              "         'Situs Inversus': 1,\n",
              "         'PCP pneumonia (Pneumocystis jiroveci pneumonia)': 1,\n",
              "         'Pulmonary Arteriovenous Malformation': 1,\n",
              "         'Thoracic Neuroblastoma': 1,\n",
              "         'Congenital Bronchial Atresia': 1,\n",
              "         'Early Onset Breast Cancer': 1,\n",
              "         'Aortic Dissection': 1,\n",
              "         'Right pulmonary artery': 1,\n",
              "         'Round atelectasis': 1,\n",
              "         'mucus plug': 1,\n",
              "         'Metastatic Breast Cancer': 1,\n",
              "         'Pneumothorax: Atypical Signs': 1,\n",
              "         'Pulmonary arteriovenous malformations, Hereditary hemorrhagic telangiectasia': 1,\n",
              "         'Diffuse Rhabdomyosarcoma': 1,\n",
              "         'Adenocarcinoma (poorly differentiated)': 1,\n",
              "         'Bronchiectasis': 1,\n",
              "         'Massive Pulmonary Embolism': 1,\n",
              "         'Left Ventricular Non Compaction': 1,\n",
              "         'Ovarian Cancer': 1,\n",
              "         \"Sjogren's Syndrome\": 1,\n",
              "         'Left-sided Aortic Arch with an Aberrant Right Subclavian Artery': 1,\n",
              "         'Lipomatous hypertrophy of the interatrial septum': 1,\n",
              "         'Infiltrating ductal carcinoma': 1,\n",
              "         'Atrial Septal Defect (ASD)': 1,\n",
              "         'aortic coarctation': 1,\n",
              "         'Breast implant,  rupture, extracapsular silicone': 1,\n",
              "         'Breast, Ductal Carcinoma in Situ (DCIS)': 1,\n",
              "         'Metastatic disease': 1,\n",
              "         'Takayasu Arteritis': 1,\n",
              "         'Bicuspid aortic valve': 1})"
            ]
          },
          "execution_count": 49,
          "metadata": {},
          "output_type": "execute_result"
        }
      ],
      "source": [
        "from collections import Counter\n",
        "\n",
        "title = [case['Topic']['Title'] for case in filtered_cases]\n",
        "Counter(title)"
      ]
    },
    {
      "cell_type": "code",
      "execution_count": 51,
      "metadata": {
        "colab": {
          "base_uri": "https://localhost:8080/"
        },
        "id": "zwa1TY7yQ732",
        "outputId": "2866c236-3d3a-46b2-d482-5cf8cc67d621"
      },
      "outputs": [
        {
          "data": {
            "text/plain": [
              "121"
            ]
          },
          "execution_count": 51,
          "metadata": {},
          "output_type": "execute_result"
        }
      ],
      "source": [
        "count = list(Counter(title))\n",
        "len(count)"
      ]
    },
    {
      "cell_type": "code",
      "execution_count": 31,
      "metadata": {},
      "outputs": [
        {
          "name": "stdout",
          "output_type": "stream",
          "text": [
            "[['•  PA chest radiograph demonstrates left lung volume loss, silhouetting of the left cardiac border, and Luftsichel sign.\\n\\n•  Lateral chest radiograph shows anterior displacement of the major fissure and elevation of the left mainstem bronchus.\\n\\n•  CT of the chest reveals an obstructing mass and resultant LUL collapse.'], ['•  PA chest radiograph demonstrates left lung volume loss, silhouetting of the left cardiac border, and Luftsichel sign.\\n\\n•  Lateral chest radiograph shows anterior displacement of the major fissure and elevation of the left mainstem bronchus.\\n\\n•  CT of the chest reveals an obstructing mass and resultant LUL collapse.'], ['Chest PA/LAT revealed increased interstitial markings in the right lower lobe.\\n\\nContrast enhanced chest CT revealed diffuse increased interstitial markings involving the right middle and lower lobes, pleural thickening/scarring of the posterior right lower lobe, and a small right-sided pleural effusion.'], ['Chest PA/LAT revealed increased interstitial markings in the right lower lobe.\\n\\nContrast enhanced chest CT revealed diffuse increased interstitial markings involving the right middle and lower lobes, pleural thickening/scarring of the posterior right lower lobe, and a small right-sided pleural effusion.'], ['Predominately basilar and peripheral interlobular septal thickening with scattered areas of ground glass opacity, consolidation, and fibrosis.'], ['PA/LAT:  smoothly marginated soft tissue opacity noted in Right cardiophrenic angle, otherwise normal. \\n\\nCT:  homogenous fluid attenuating and smoothly marginated lesion abutting the right cardiac border with Hounsfield attenuation unit = 7;  Measures 5 x 4.4 x 7 cm'], ['During acute bleeding episode, areas of increased opacity and decreased lung volume are seen throughout the lungs, especially in the bases.'], ['During acute bleeding episode, areas of increased opacity and decreased lung volume are seen throughout the lungs, especially in the bases.'], ['Bilateral pleural effusions, R>>L.  Right basilar atelectasis. \\nMain PA filling defect C/W saddle embolism.\\nRight lower lobe branch of PA filling defect c/w thromboembolism.'], ['Multiple axial CT images of the chest with intravenous contrast material demonstrates a Stanford type A thoracic aortic dissection, with a clear intimal flap separating the true and false lumens of the ascending aorta.  Additionally, the pericardium full of dense fluid, likely hemopericardium.'], ['Multiple axial CT images of the chest with intravenous contrast material demonstrates a Stanford type A thoracic aortic dissection, with a clear intimal flap separating the true and false lumens of the ascending aorta.  Additionally, the pericardium full of dense fluid, likely hemopericardium.'], ['Multiple axial CT images of the chest with intravenous contrast material demonstrates a Stanford type A thoracic aortic dissection, with a clear intimal flap separating the true and false lumens of the ascending aorta.  Additionally, the pericardium full of dense fluid, likely hemopericardium.'], ['PA/Lat CXR:  There is irregularity to the contour of the right hilum on the PA view.  On the lateral view, there is a central, RML nodule which when going back to the PA, can barely be seen.\\n\\nAxial CT:  Note the round, smooth nodule just anterior to the takeoff of the medial RML bronchus.  There is no calcification, and no strong enhancement with intravenous contrast.  The lesion does not appear to involve the bronchial lumen.  \\n\\nCoronal CT reformation:  Round nodule superior to the RML bronchus again demonstrated.'], ['ABDOMINAL AORTA:  There is narrowing of the abdominal aorta, both above and below the renal arteries.  The superior mesenteric artery is occluded at its origin, and not seen on the lateral view.  There is a large Arc of Riolan from the IMA, which reconstitutes the SMA distribution.  The celiac axis is patent, however, there is a 50% stenosis at the origin.  There are single renal arteries bilaterally, both of which demonstrate stenoses.  On the right, there is a long segment stenosis with approximately 50% narrowing.  On the left, there is 60% to 70% stenosis at the origin of the vessel, extending to an early bifurcation, with an early upper pole branch.  This is also stenotic at its origin.'], ['T2 weighted axial MR image reveals a well-marginated mass with smooth borders in the left lung at the level of the aortic arch, which demonstrates multiple small foci of increased T2 signal intensity, giving the mass a speckled appearance.\\n\\nContrast enhanced axial CT image shows a homogeneous, well-marginated, solid mass with minimal contrast enhancement in the left upper lobe.  No fat or calcification is evident.'], ['Numerous, scattered, small masses'], ['CXR and CT demonstrate nodular interstitial lung disease with multiple superimposed pulmonary masses/nodules. Significant mediastinal and hilar lymphadenopathy are seen. Numerous splenic and renal nodules are also present.'], ['CXR and CT demonstrate nodular interstitial lung disease with multiple superimposed pulmonary masses/nodules. Significant mediastinal and hilar lymphadenopathy are seen. Numerous splenic and renal nodules are also present.'], ['CXR and CT demonstrate nodular interstitial lung disease with multiple superimposed pulmonary masses/nodules. Significant mediastinal and hilar lymphadenopathy are seen. Numerous splenic and renal nodules are also present.'], ['An air-fluid level in the right hemithorax, with marked atelectasis of the right lung.'], ['An air-fluid level in the right hemithorax, with marked atelectasis of the right lung.'], ['An air-fluid level in the right hemithorax, with marked atelectasis of the right lung.'], ['Chest and abdominal CT on 13 April 2006 revealed the following in comparison with an August 2004 chest and abdominal CT:\\n  •  Progression of right hilar adenopathy and enlargement of the pleural-based soft tissue mass along the posteromedial aspect of the right lower lobe.\\n  •  Pulmonary parenchyma demonstrates enlargement of multiple\\nright lower lobe pulmonary nodules.\\n  •   The pancreas, spleen, adrenal glands, and kidneys are normal. \\n  •   Soft tissue in the bilateral gluteal regions are normal.\\n\\nChest and abdomal CT on 16 August 2006 after 4 months of chemotherapy and radiation revealed the following in comparison with the 13 April 2006 study:\\n  •   Subcarinal lymphadenopathy is demonstrated and increased from previous study.\\n  •   Associated rib destruction is demonstrated.\\n  •   Associated endobronchial narrowing is demonstrated extending to the right lower lobe.\\n  •   No pulmonary nodules are seen in the left lung.\\n  •   Interval development of bilateral adrenal masses.\\n  •   Soft tissue masses are demonstrated within the mesentery.\\n  •   Interval development of right gluteal mass'], ['Chest and abdominal CT on 13 April 2006 revealed the following in comparison with an August 2004 chest and abdominal CT:\\n  •  Progression of right hilar adenopathy and enlargement of the pleural-based soft tissue mass along the posteromedial aspect of the right lower lobe.\\n  •  Pulmonary parenchyma demonstrates enlargement of multiple\\nright lower lobe pulmonary nodules.\\n  •   The pancreas, spleen, adrenal glands, and kidneys are normal. \\n  •   Soft tissue in the bilateral gluteal regions are normal.\\n\\nChest and abdomal CT on 16 August 2006 after 4 months of chemotherapy and radiation revealed the following in comparison with the 13 April 2006 study:\\n  •   Subcarinal lymphadenopathy is demonstrated and increased from previous study.\\n  •   Associated rib destruction is demonstrated.\\n  •   Associated endobronchial narrowing is demonstrated extending to the right lower lobe.\\n  •   No pulmonary nodules are seen in the left lung.\\n  •   Interval development of bilateral adrenal masses.\\n  •   Soft tissue masses are demonstrated within the mesentery.\\n  •   Interval development of right gluteal mass'], ['Chest and abdominal CT on 13 April 2006 revealed the following in comparison with an August 2004 chest and abdominal CT:\\n  •  Progression of right hilar adenopathy and enlargement of the pleural-based soft tissue mass along the posteromedial aspect of the right lower lobe.\\n  •  Pulmonary parenchyma demonstrates enlargement of multiple\\nright lower lobe pulmonary nodules.\\n  •   The pancreas, spleen, adrenal glands, and kidneys are normal. \\n  •   Soft tissue in the bilateral gluteal regions are normal.\\n\\nChest and abdomal CT on 16 August 2006 after 4 months of chemotherapy and radiation revealed the following in comparison with the 13 April 2006 study:\\n  •   Subcarinal lymphadenopathy is demonstrated and increased from previous study.\\n  •   Associated rib destruction is demonstrated.\\n  •   Associated endobronchial narrowing is demonstrated extending to the right lower lobe.\\n  •   No pulmonary nodules are seen in the left lung.\\n  •   Interval development of bilateral adrenal masses.\\n  •   Soft tissue masses are demonstrated within the mesentery.\\n  •   Interval development of right gluteal mass'], ['Chest and abdominal CT on 13 April 2006 revealed the following in comparison with an August 2004 chest and abdominal CT:\\n  •  Progression of right hilar adenopathy and enlargement of the pleural-based soft tissue mass along the posteromedial aspect of the right lower lobe.\\n  •  Pulmonary parenchyma demonstrates enlargement of multiple\\nright lower lobe pulmonary nodules.\\n  •   The pancreas, spleen, adrenal glands, and kidneys are normal. \\n  •   Soft tissue in the bilateral gluteal regions are normal.\\n\\nChest and abdomal CT on 16 August 2006 after 4 months of chemotherapy and radiation revealed the following in comparison with the 13 April 2006 study:\\n  •   Subcarinal lymphadenopathy is demonstrated and increased from previous study.\\n  •   Associated rib destruction is demonstrated.\\n  •   Associated endobronchial narrowing is demonstrated extending to the right lower lobe.\\n  •   No pulmonary nodules are seen in the left lung.\\n  •   Interval development of bilateral adrenal masses.\\n  •   Soft tissue masses are demonstrated within the mesentery.\\n  •   Interval development of right gluteal mass'], ['Chest and abdominal CT on 13 April 2006 revealed the following in comparison with an August 2004 chest and abdominal CT:\\n  •  Progression of right hilar adenopathy and enlargement of the pleural-based soft tissue mass along the posteromedial aspect of the right lower lobe.\\n  •  Pulmonary parenchyma demonstrates enlargement of multiple\\nright lower lobe pulmonary nodules.\\n  •   The pancreas, spleen, adrenal glands, and kidneys are normal. \\n  •   Soft tissue in the bilateral gluteal regions are normal.\\n\\nChest and abdomal CT on 16 August 2006 after 4 months of chemotherapy and radiation revealed the following in comparison with the 13 April 2006 study:\\n  •   Subcarinal lymphadenopathy is demonstrated and increased from previous study.\\n  •   Associated rib destruction is demonstrated.\\n  •   Associated endobronchial narrowing is demonstrated extending to the right lower lobe.\\n  •   No pulmonary nodules are seen in the left lung.\\n  •   Interval development of bilateral adrenal masses.\\n  •   Soft tissue masses are demonstrated within the mesentery.\\n  •   Interval development of right gluteal mass'], ['CXR demonstrates a hyperlucent left hemithorax. Follow up CT reveals diminished left lung vasculature and associated decreased parenchymal density.'], ['strandy right apical scarring and tree-in-bud opacity with minimal cystic change. Tree-in-bud opacity within superior segment of right upper lobe. No pleural effusions and no significant lymphadenopathy'], ['strandy right apical scarring and tree-in-bud opacity with minimal cystic change. Tree-in-bud opacity within superior segment of right upper lobe. No pleural effusions and no significant lymphadenopathy'], ['Selective catherization of a lingular bronchial artery reveals enlarged, tortuous, abnormal bronchial vessels.'], ['•  CXR: \\nLarge destructive left apical mass involving the chest wall.  There is vertebral destruction, pleural metastasis, lymphadenopathy, and a contralateral lung nodules.\\n\\n•  CT: \\n1) Large left upper lobe mass with adjacent chest wall invasion with bony destruction and vertebral body destruction.  Multiple left lingular segment masses\\n2) Right upper lobe mass with adjacent air space disease\\n3) Mediastinal and left hilar adenopathy\\n4) Right liver lobe ductal dilatation\\n5) Right adrenal mass enlargement\\n6) Left kidney mass\\n\\n•  PET:\\n1) Malignant neoplasm extensively involving the apical posterior segment of the left upper lobe and extending locally into the mediastinum and the chest wall.  No discontinuous foci within the mediastinum or cervical region specifically to suggest metastatic disease to the lymph nodes.  Several satellite nodules in the left mid lung field and possible nodular metastases to left mid ribs.'], ['•  CXR: \\nLarge destructive left apical mass involving the chest wall.  There is vertebral destruction, pleural metastasis, lymphadenopathy, and a contralateral lung nodules.\\n\\n•  CT: \\n1) Large left upper lobe mass with adjacent chest wall invasion with bony destruction and vertebral body destruction.  Multiple left lingular segment masses\\n2) Right upper lobe mass with adjacent air space disease\\n3) Mediastinal and left hilar adenopathy\\n4) Right liver lobe ductal dilatation\\n5) Right adrenal mass enlargement\\n6) Left kidney mass\\n\\n•  PET:\\n1) Malignant neoplasm extensively involving the apical posterior segment of the left upper lobe and extending locally into the mediastinum and the chest wall.  No discontinuous foci within the mediastinum or cervical region specifically to suggest metastatic disease to the lymph nodes.  Several satellite nodules in the left mid lung field and possible nodular metastases to left mid ribs.'], ['•  CXR: \\nLarge destructive left apical mass involving the chest wall.  There is vertebral destruction, pleural metastasis, lymphadenopathy, and a contralateral lung nodules.\\n\\n•  CT: \\n1) Large left upper lobe mass with adjacent chest wall invasion with bony destruction and vertebral body destruction.  Multiple left lingular segment masses\\n2) Right upper lobe mass with adjacent air space disease\\n3) Mediastinal and left hilar adenopathy\\n4) Right liver lobe ductal dilatation\\n5) Right adrenal mass enlargement\\n6) Left kidney mass\\n\\n•  PET:\\n1) Malignant neoplasm extensively involving the apical posterior segment of the left upper lobe and extending locally into the mediastinum and the chest wall.  No discontinuous foci within the mediastinum or cervical region specifically to suggest metastatic disease to the lymph nodes.  Several satellite nodules in the left mid lung field and possible nodular metastases to left mid ribs.'], ['•  CXR: \\nLarge destructive left apical mass involving the chest wall.  There is vertebral destruction, pleural metastasis, lymphadenopathy, and a contralateral lung nodules.\\n\\n•  CT: \\n1) Large left upper lobe mass with adjacent chest wall invasion with bony destruction and vertebral body destruction.  Multiple left lingular segment masses\\n2) Right upper lobe mass with adjacent air space disease\\n3) Mediastinal and left hilar adenopathy\\n4) Right liver lobe ductal dilatation\\n5) Right adrenal mass enlargement\\n6) Left kidney mass\\n\\n•  PET:\\n1) Malignant neoplasm extensively involving the apical posterior segment of the left upper lobe and extending locally into the mediastinum and the chest wall.  No discontinuous foci within the mediastinum or cervical region specifically to suggest metastatic disease to the lymph nodes.  Several satellite nodules in the left mid lung field and possible nodular metastases to left mid ribs.'], ['PA and Lateral CXR demonstrates no mediastinal widening. Heart size is normal.  The lungs are clear.\\n\\nContrast CT demonstrates a large ascendning aortic aneurysm beginning at the root and extending to the arch just proximal to the take off of the innominate artery.'], ['PA and Lateral CXR demonstrates no mediastinal widening. Heart size is normal.  The lungs are clear.\\n\\nContrast CT demonstrates a large ascendning aortic aneurysm beginning at the root and extending to the arch just proximal to the take off of the innominate artery.'], ['PA and Lateral CXR demonstrates no mediastinal widening. Heart size is normal.  The lungs are clear.\\n\\nContrast CT demonstrates a large ascendning aortic aneurysm beginning at the root and extending to the arch just proximal to the take off of the innominate artery.'], ['Contrast enhanced CT images from a PE/DVT CT protocol reveal large intraluminal filling defects in the right and left main pulmonary arteries.  Notice the enlarged main pulmonary artery.'], ['Contrast enhanced CT images from a PE/DVT CT protocol reveal large intraluminal filling defects in the right and left main pulmonary arteries.  Notice the enlarged main pulmonary artery.'], ['Contrast enhanced CT images from a PE/DVT CT protocol reveal large intraluminal filling defects in the right and left main pulmonary arteries.  Notice the enlarged main pulmonary artery.'], ['Right aortic arch with aberrant left subclavian artery'], ['Right aortic arch with aberrant left subclavian artery'], ['Right aortic arch with aberrant left subclavian artery'], ['Right aortic arch with aberrant left subclavian artery'], ['Right aortic arch with aberrant left subclavian artery'], ['Right aortic arch with aberrant left subclavian artery'], ['The thoracic aorta is notable for high-grade coarctation with post-stenotic dilatation.  The level of the stenosis is 2.5 cm distal to the take off of an otherwise enlarged left subclavian artery.  Multiple enlarged collateral vessels are identified, including bilateral internal mammary, intercostal, and subphrenic arteries.  The branch vessels are all patent.'], ['Multiple bilateral well circumscribed pulmonary nodules, without spiculations or irregularities. No pathologic lymphadenopathy.'], ['Chest x-ray demonstrated rounded lobular nodules in the left lower lobe.  CT pulmonary angiogram revealed multiple enhancing left lower lobe masses, some with cavitation.']]\n"
          ]
        }
      ],
      "source": [
        "reports=[]\n",
        "for data in filtered_descriptions:\n",
        "    id = data['U_id']\n",
        "    findings = [case[\"Case\"][\"Findings\"] for case in case_data if case[\"U_id\"] == id]\n",
        "    report = findings\n",
        "    reports.append(report)\n",
        "print(reports[:50])"
      ]
    },
    {
      "cell_type": "markdown",
      "metadata": {
        "id": "RlKWbDV3PIex"
      },
      "source": [
        "### clip indices 관련"
      ]
    },
    {
      "cell_type": "code",
      "execution_count": 4,
      "metadata": {
        "colab": {
          "base_uri": "https://localhost:8080/"
        },
        "id": "w04q59g6Hzu7",
        "outputId": "f5fece51-9149-4a41-f8b9-21df672f1729"
      },
      "outputs": [
        {
          "name": "stdout",
          "output_type": "stream",
          "text": [
            "Collecting ftfy\n",
            "  Downloading ftfy-6.3.1-py3-none-any.whl.metadata (7.3 kB)\n",
            "Collecting regex\n",
            "  Using cached regex-2024.11.6-cp312-cp312-win_amd64.whl.metadata (41 kB)\n",
            "Collecting tqdm\n",
            "  Using cached tqdm-4.67.1-py3-none-any.whl.metadata (57 kB)\n",
            "Requirement already satisfied: wcwidth in c:\\users\\user1\\desktop\\daiv_2024_fall\\promptmrg\\venv\\lib\\site-packages (from ftfy) (0.2.13)\n",
            "Requirement already satisfied: colorama in c:\\users\\user1\\desktop\\daiv_2024_fall\\promptmrg\\venv\\lib\\site-packages (from tqdm) (0.4.6)\n",
            "Downloading ftfy-6.3.1-py3-none-any.whl (44 kB)\n",
            "Using cached regex-2024.11.6-cp312-cp312-win_amd64.whl (273 kB)\n",
            "Using cached tqdm-4.67.1-py3-none-any.whl (78 kB)\n",
            "Installing collected packages: tqdm, regex, ftfy\n",
            "Successfully installed ftfy-6.3.1 regex-2024.11.6 tqdm-4.67.1\n",
            "Collecting git+https://github.com/openai/CLIP.git\n",
            "  Cloning https://github.com/openai/CLIP.git to c:\\users\\user1\\appdata\\local\\temp\\pip-req-build-3h88mg76\n",
            "  Resolved https://github.com/openai/CLIP.git to commit dcba3cb2e2827b402d2701e7e1c7d9fed8a20ef1\n",
            "  Installing build dependencies: started\n",
            "  Installing build dependencies: finished with status 'done'\n",
            "  Getting requirements to build wheel: started\n",
            "  Getting requirements to build wheel: finished with status 'done'\n",
            "  Preparing metadata (pyproject.toml): started\n",
            "  Preparing metadata (pyproject.toml): finished with status 'done'\n",
            "Requirement already satisfied: ftfy in c:\\users\\user1\\desktop\\daiv_2024_fall\\promptmrg\\venv\\lib\\site-packages (from clip==1.0) (6.3.1)\n",
            "Requirement already satisfied: packaging in c:\\users\\user1\\desktop\\daiv_2024_fall\\promptmrg\\venv\\lib\\site-packages (from clip==1.0) (24.2)\n",
            "Requirement already satisfied: regex in c:\\users\\user1\\desktop\\daiv_2024_fall\\promptmrg\\venv\\lib\\site-packages (from clip==1.0) (2024.11.6)\n",
            "Requirement already satisfied: tqdm in c:\\users\\user1\\desktop\\daiv_2024_fall\\promptmrg\\venv\\lib\\site-packages (from clip==1.0) (4.67.1)\n",
            "Collecting torch (from clip==1.0)\n",
            "  Using cached torch-2.5.1-cp312-cp312-win_amd64.whl.metadata (28 kB)\n",
            "Collecting torchvision (from clip==1.0)\n",
            "  Using cached torchvision-0.20.1-cp312-cp312-win_amd64.whl.metadata (6.2 kB)\n",
            "Requirement already satisfied: wcwidth in c:\\users\\user1\\desktop\\daiv_2024_fall\\promptmrg\\venv\\lib\\site-packages (from ftfy->clip==1.0) (0.2.13)\n",
            "Collecting filelock (from torch->clip==1.0)\n",
            "  Using cached filelock-3.16.1-py3-none-any.whl.metadata (2.9 kB)\n",
            "Collecting typing-extensions>=4.8.0 (from torch->clip==1.0)\n",
            "  Using cached typing_extensions-4.12.2-py3-none-any.whl.metadata (3.0 kB)\n",
            "Collecting networkx (from torch->clip==1.0)\n",
            "  Using cached networkx-3.4.2-py3-none-any.whl.metadata (6.3 kB)\n",
            "Collecting jinja2 (from torch->clip==1.0)\n",
            "  Using cached jinja2-3.1.5-py3-none-any.whl.metadata (2.6 kB)\n",
            "Collecting fsspec (from torch->clip==1.0)\n",
            "  Using cached fsspec-2024.12.0-py3-none-any.whl.metadata (11 kB)\n",
            "Collecting setuptools (from torch->clip==1.0)\n",
            "  Using cached setuptools-75.6.0-py3-none-any.whl.metadata (6.7 kB)\n",
            "Collecting sympy==1.13.1 (from torch->clip==1.0)\n",
            "  Using cached sympy-1.13.1-py3-none-any.whl.metadata (12 kB)\n",
            "Collecting mpmath<1.4,>=1.1.0 (from sympy==1.13.1->torch->clip==1.0)\n",
            "  Using cached mpmath-1.3.0-py3-none-any.whl.metadata (8.6 kB)\n",
            "Collecting numpy (from torchvision->clip==1.0)\n",
            "  Using cached numpy-2.2.1-cp312-cp312-win_amd64.whl.metadata (60 kB)\n",
            "Collecting pillow!=8.3.*,>=5.3.0 (from torchvision->clip==1.0)\n",
            "  Using cached pillow-11.0.0-cp312-cp312-win_amd64.whl.metadata (9.3 kB)\n",
            "Requirement already satisfied: colorama in c:\\users\\user1\\desktop\\daiv_2024_fall\\promptmrg\\venv\\lib\\site-packages (from tqdm->clip==1.0) (0.4.6)\n",
            "Collecting MarkupSafe>=2.0 (from jinja2->torch->clip==1.0)\n",
            "  Using cached MarkupSafe-3.0.2-cp312-cp312-win_amd64.whl.metadata (4.1 kB)\n",
            "Using cached torch-2.5.1-cp312-cp312-win_amd64.whl (203.0 MB)\n",
            "Using cached sympy-1.13.1-py3-none-any.whl (6.2 MB)\n",
            "Using cached torchvision-0.20.1-cp312-cp312-win_amd64.whl (1.6 MB)\n",
            "Using cached pillow-11.0.0-cp312-cp312-win_amd64.whl (2.6 MB)\n",
            "Using cached typing_extensions-4.12.2-py3-none-any.whl (37 kB)\n",
            "Using cached filelock-3.16.1-py3-none-any.whl (16 kB)\n",
            "Using cached fsspec-2024.12.0-py3-none-any.whl (183 kB)\n",
            "Using cached jinja2-3.1.5-py3-none-any.whl (134 kB)\n",
            "Using cached networkx-3.4.2-py3-none-any.whl (1.7 MB)\n",
            "Using cached numpy-2.2.1-cp312-cp312-win_amd64.whl (12.6 MB)\n",
            "Using cached setuptools-75.6.0-py3-none-any.whl (1.2 MB)\n",
            "Using cached MarkupSafe-3.0.2-cp312-cp312-win_amd64.whl (15 kB)\n",
            "Using cached mpmath-1.3.0-py3-none-any.whl (536 kB)\n",
            "Building wheels for collected packages: clip\n",
            "  Building wheel for clip (pyproject.toml): started\n",
            "  Building wheel for clip (pyproject.toml): finished with status 'done'\n",
            "  Created wheel for clip: filename=clip-1.0-py3-none-any.whl size=1369570 sha256=a65485fd9caecdb5b89667950ab77401d443c462d621dc365776222eeb60d4c4\n",
            "  Stored in directory: C:\\Users\\user1\\AppData\\Local\\Temp\\pip-ephem-wheel-cache-hkg83w8g\\wheels\\35\\3e\\df\\3d24cbfb3b6a06f17a2bfd7d1138900d4365d9028aa8f6e92f\n",
            "Successfully built clip\n",
            "Installing collected packages: mpmath, typing-extensions, sympy, setuptools, pillow, numpy, networkx, MarkupSafe, fsspec, filelock, jinja2, torch, torchvision, clip\n",
            "Successfully installed MarkupSafe-3.0.2 clip-1.0 filelock-3.16.1 fsspec-2024.12.0 jinja2-3.1.5 mpmath-1.3.0 networkx-3.4.2 numpy-2.2.1 pillow-11.0.0 setuptools-75.6.0 sympy-1.13.1 torch-2.5.1 torchvision-0.20.1 typing-extensions-4.12.2\n"
          ]
        },
        {
          "name": "stderr",
          "output_type": "stream",
          "text": [
            "  Running command git clone --filter=blob:none --quiet https://github.com/openai/CLIP.git 'C:\\Users\\user1\\AppData\\Local\\Temp\\pip-req-build-3h88mg76'\n"
          ]
        }
      ],
      "source": [
        "!pip install ftfy regex tqdm\n",
        "!pip install git+https://github.com/openai/CLIP.git"
      ]
    },
    {
      "cell_type": "code",
      "execution_count": null,
      "metadata": {
        "colab": {
          "base_uri": "https://localhost:8080/"
        },
        "id": "JKolrbNzHSoH",
        "outputId": "778d3b89-3574-44e1-eed7-fd7672529813"
      },
      "outputs": [
        {
          "name": "stdout",
          "output_type": "stream",
          "text": [
            "tensor([[ 0.0547, -0.0061,  0.0495,  ..., -0.6638, -0.1281, -0.4950],\n",
            "        [ 0.1447,  0.0225, -0.2909,  ..., -0.4472, -0.3420,  0.1798],\n",
            "        [ 0.1981, -0.2040, -0.1533,  ..., -0.4514, -0.5664,  0.0596]])\n"
          ]
        }
      ],
      "source": [
        "import torch\n",
        "import clip\n",
        "from PIL import Image\n",
        "\n",
        "device = \"cuda\" if torch.cuda.is_available() else \"cpu\"\n",
        "model, preprocess = clip.load(\"ViT-B/32\", device=device)\n",
        "\n",
        "image = preprocess(Image.open(\"CLIP.png\")).unsqueeze(0).to(device)\n",
        "text = clip.tokenize([\"a diagram\", \"a dog\", \"a cat\"]).to(device)\n",
        "\n",
        "with torch.no_grad():\n",
        "    image_features = model.encode_image(image)\n",
        "    text_features = model.encode_text(text)\n",
        "\n",
        "    logits_per_image, logits_per_text = model(image, text)\n",
        "    probs = logits_per_image.softmax(dim=-1).cpu().numpy()\n",
        "\n",
        "print(\"Label probs:\", probs)  # prints: [[0.9927937  0.00421068 0.00299572]]"
      ]
    },
    {
      "cell_type": "code",
      "execution_count": null,
      "metadata": {
        "colab": {
          "base_uri": "https://localhost:8080/"
        },
        "id": "TjmMQnc0H2Ss",
        "outputId": "6ae62f6b-4ba1-4583-c568-dee7bb45a35e"
      },
      "outputs": [
        {
          "name": "stdout",
          "output_type": "stream",
          "text": [
            "torch.Size([3, 512])\n"
          ]
        }
      ],
      "source": [
        "print(text_features.shape)"
      ]
    },
    {
      "cell_type": "code",
      "execution_count": null,
      "metadata": {
        "colab": {
          "base_uri": "https://localhost:8080/"
        },
        "id": "6R4FBruOLY7C",
        "outputId": "7142e6b7-0922-4635-bd90-a519fbf3d2d2"
      },
      "outputs": [
        {
          "name": "stdout",
          "output_type": "stream",
          "text": [
            "tensor([ 30446,  30447, 195450, 195449,  15025,  15026,  37231,  37232, 262662,\n",
            "        262663, 125199, 125200,  10208,  10207,  10206, 195458, 140842, 140841,\n",
            "         78025,  78024,  78022])\n"
          ]
        }
      ],
      "source": [
        "import clip\n",
        "import torch\n",
        "from PIL import Image\n",
        "\n",
        "device = \"cuda\" if torch.cuda.is_available() else \"cpu\"\n",
        "model, preprocess = clip.load('ViT-B/32', device)\n",
        "text_features = text_embedding\n",
        "\n",
        "image_path = '/content/drive/MyDrive/DAIV_2024_Fall/PromptMRG/data/medpix/images/MPX1007_synpic46719.png'\n",
        "image = preprocess(Image.open(image_path)).unsqueeze(0).to(device)\n",
        "\n",
        "with torch.no_grad():\n",
        "    image_features = model.encode_image(image)\n",
        "\n",
        "# Pick the top 5 most similar labels for the image\n",
        "image_features /= image_features.norm(dim=-1, keepdim=True)\n",
        "text_features /= text_features.norm(dim=-1, keepdim=True)\n",
        "similarity = (100.0 * image_features @ text_features.T).softmax(dim=-1)\n",
        "values, indices = similarity[0].topk(21)\n",
        "\n",
        "print(indices)"
      ]
    },
    {
      "cell_type": "markdown",
      "metadata": {
        "id": "7lpEZ2AMMc8E"
      },
      "source": [
        "### json 파일 만들기"
      ]
    },
    {
      "cell_type": "code",
      "execution_count": 1,
      "metadata": {
        "colab": {
          "base_uri": "https://localhost:8080/"
        },
        "id": "jS6-0gCFOwHN",
        "outputId": "5a9f4cf5-259d-4199-bf4b-99b1cb1fcf91"
      },
      "outputs": [],
      "source": [
        "import json\n",
        "import torch\n",
        "import clip\n",
        "from PIL import Image\n",
        "\n",
        "device = \"cuda\" if torch.cuda.is_available() else \"cpu\"\n",
        "model, preprocess = clip.load(\"ViT-B/32\", device=device)"
      ]
    },
    {
      "cell_type": "code",
      "execution_count": 2,
      "metadata": {},
      "outputs": [],
      "source": [
        "# clip_text_feature 가져오기\n",
        "clip_text_feature_path = '../mimic_cxr/clip_text_features.json'\n",
        "with open(clip_text_feature_path, 'r', encoding='utf-8') as f:\n",
        "    clip_text_feature = json.load(f)\n",
        "text_features = torch.tensor(clip_text_feature)"
      ]
    },
    {
      "cell_type": "code",
      "execution_count": 3,
      "metadata": {},
      "outputs": [
        {
          "name": "stderr",
          "output_type": "stream",
          "text": [
            "c:\\Users\\user1\\Desktop\\DAIV_2024_Fall\\PromptMRG\\venv\\Lib\\site-packages\\tqdm\\auto.py:21: TqdmWarning: IProgress not found. Please update jupyter and ipywidgets. See https://ipywidgets.readthedocs.io/en/stable/user_install.html\n",
            "  from .autonotebook import tqdm as notebook_tqdm\n",
            "C:\\Users\\user1\\Desktop\\DAIV_2024_Fall\\PromptMRG\\modules\\chexbert.py:30: FutureWarning: You are using `torch.load` with `weights_only=False` (the current default value), which uses the default pickle module implicitly. It is possible to construct malicious pickle data which will execute arbitrary code during unpickling (See https://github.com/pytorch/pytorch/blob/main/SECURITY.md#untrusted-models for more details). In a future release, the default value for `weights_only` will be flipped to `True`. This limits the functions that could be executed during unpickling. Arbitrary objects will no longer be allowed to be loaded via this mode unless they are explicitly allowlisted by the user via `torch.serialization.add_safe_globals`. We recommend you start setting `weights_only=True` for any use case where you don't have full control of the loaded file. Please open an issue on GitHub for any issues related to this experimental feature.\n",
            "  state_dict = torch.load(checkpoint_path, map_location=device)['model_state_dict']\n"
          ]
        }
      ],
      "source": [
        "import sys\n",
        "import os\n",
        "\n",
        "sys.path.append(r'C:\\Users\\user1\\Desktop\\DAIV_2024_Fall\\PromptMRG')\n",
        "\n",
        "from modules.chexbert import CheXbert\n",
        "import torch\n",
        "\n",
        "checkpoint = r'C:\\Users\\user1\\Desktop\\DAIV_2024_Fall\\PromptMRG\\checkpoints\\stanford\\chexbert\\chexbert.pth'\n",
        "device = 'cuda' if torch.cuda.is_available() else 'cpu'\n",
        "chexbert = CheXbert(checkpoint_path=checkpoint, device=device)"
      ]
    },
    {
      "cell_type": "code",
      "execution_count": 7,
      "metadata": {
        "colab": {
          "base_uri": "https://localhost:8080/",
          "height": 211
        },
        "id": "2ndgg3CRHNFa",
        "outputId": "6e568935-3ac2-48d5-8ec0-bc4adf27a1f7"
      },
      "outputs": [],
      "source": [
        "import re\n",
        "\n",
        "all_data = []\n",
        "\n",
        "for data in filtered_descriptions:\n",
        "    each_data = {}\n",
        "    \n",
        "    # id & image_id\n",
        "    id = data['U_id']\n",
        "    image_id = data['image']\n",
        "\n",
        "    each_data['id'] = id\n",
        "    \n",
        "    # type\n",
        "    each_data['type'] = data['Type']\n",
        "    \n",
        "    # image_path\n",
        "    each_data['image_path'] = []\n",
        "    image_path = data['image'] + '.png'\n",
        "    each_data['image_path'].append(image_path)\n",
        "\n",
        "    # report\n",
        "    findings = [case[\"Case\"][\"Findings\"] for case in case_data if case[\"U_id\"] == id]\n",
        "    report = findings[0]\n",
        "    \n",
        "    # 불필요한 문자 제거\n",
        "    report = report.replace(\"\\n\", \" \")\n",
        "    report = report.replace(\"\\t\", \" \")\n",
        "    report = report.replace('\\u201c', '').replace('\\u201d', '').replace('\\u2022', '')\n",
        "    report = re.sub(r'\\s+', ' ', report)\n",
        "        \n",
        "    each_data['report'] = report\n",
        "\n",
        "    # clip_indices\n",
        "    image_path = './images/' + image_id + '.png'\n",
        "\n",
        "    # image encoding\n",
        "    image = preprocess(Image.open(image_path)).unsqueeze(0).to(device)\n",
        "\n",
        "    with torch.no_grad():\n",
        "        image_features = model.encode_image(image)\n",
        "\n",
        "    # Pick the top 21 most similar labels for the image\n",
        "    image_features /= image_features.norm(dim=-1, keepdim=True)\n",
        "    text_features /= text_features.norm(dim=-1, keepdim=True)\n",
        "    similarity = (100.0 * image_features @ text_features.T).softmax(dim=-1)\n",
        "    values, indices = similarity[0].topk(21)\n",
        "    \n",
        "    each_data['clip_indices'] = indices.tolist()\n",
        "    \n",
        "    # split\n",
        "    each_data['split'] = 'test'\n",
        "\n",
        "    # labels\n",
        "    labels = chexbert(findings).tolist()\n",
        "    each_data['labels'] = labels[0]\n",
        "    \n",
        "    all_data.append(each_data)"
      ]
    },
    {
      "cell_type": "code",
      "execution_count": 8,
      "metadata": {},
      "outputs": [
        {
          "name": "stdout",
          "output_type": "stream",
          "text": [
            "334\n"
          ]
        }
      ],
      "source": [
        "print(len(all_data))"
      ]
    },
    {
      "cell_type": "code",
      "execution_count": 10,
      "metadata": {
        "id": "8e_yGZgFOj7j"
      },
      "outputs": [
        {
          "name": "stdout",
          "output_type": "stream",
          "text": [
            "{'id': 'MPX1024', 'type': 'CT', 'image_path': ['MPX1024_synpic40275.png'], 'report': ' PA chest radiograph demonstrates left lung volume loss, silhouetting of the left cardiac border, and Luftsichel sign. Lateral chest radiograph shows anterior displacement of the major fissure and elevation of the left mainstem bronchus. CT of the chest reveals an obstructing mass and resultant LUL collapse.', 'clip_indices': [15408, 15409, 67504, 67505, 67503, 3807, 3808, 11418, 11419, 10370, 10371, 134561, 151593, 268516, 268517, 26647, 26646, 260156, 171033, 171032, 26339], 'split': 'test', 'labels': [0, 0, 0, 1, 0, 0, 0, 1, 0, 0, 0, 0, 0, 0]}\n"
          ]
        }
      ],
      "source": [
        "print(all_data[0])"
      ]
    },
    {
      "cell_type": "code",
      "execution_count": 11,
      "metadata": {},
      "outputs": [
        {
          "name": "stdout",
          "output_type": "stream",
          "text": [
            "[\n",
            "\t{\n",
            "\t\t\"id\": \"MPX1024\",\n",
            "\t\t\"type\": \"CT\",\n",
            "\t\t\"image_path\": [\n",
            "\t\t\t\"MPX1024_synpic40275.png\"\n",
            "\t\t],\n",
            "\t\t\"report\": \" PA chest radiograph demonstrates left lung volume loss, silhouetting of the left cardiac border, and Luftsichel sign. Lateral chest radiograph shows anterior displacement of the major fissure and elevation of the left mainstem bronchus. CT of the chest reveals an obstructing mass and resultant LUL collapse.\",\n",
            "\t\t\"clip_indices\": [\n",
            "\t\t\t15408,\n",
            "\t\t\t15409,\n",
            "\t\t\t67504,\n",
            "\t\t\t67505,\n",
            "\t\t\t67503,\n",
            "\t\t\t3807,\n",
            "\t\t\t3808,\n",
            "\t\t\t11418,\n",
            "\t\t\t11419,\n",
            "\t\t\t10370,\n",
            "\t\t\t10371,\n",
            "\t\t\t134561,\n",
            "\t\t\t151593,\n",
            "\t\t\t268516,\n",
            "\t\t\t268517,\n",
            "\t\t\t26647,\n",
            "\t\t\t26646,\n",
            "\t\t\t260156,\n",
            "\t\t\t171033,\n",
            "\t\t\t171032,\n",
            "\t\t\t26339\n",
            "\t\t],\n",
            "\t\t\"split\": \"test\",\n",
            "\t\t\"labels\": [\n",
            "\t\t\t0,\n",
            "\t\t\t0,\n",
            "\t\t\t0,\n",
            "\t\t\t1,\n",
            "\t\t\t0,\n",
            "\t\t\t0,\n",
            "\t\t\t0,\n",
            "\t\t\t1,\n",
            "\t\t\t0,\n",
            "\t\t\t0,\n",
            "\t\t\t0,\n",
            "\t\t\t0,\n",
            "\t\t\t0,\n",
            "\t\t\t0\n",
            "\t\t]\n",
            "\t},\n",
            "\t{\n",
            "\t\t\"id\": \"MPX1024\",\n",
            "\t\t\"type\": \"CT\",\n",
            "\t\t\"image_path\": [\n",
            "\t\t\t\"MPX1024_synpic40277.png\"\n",
            "\t\t],\n",
            "\t\t\"report\": \" PA chest radiograph demonstrates left lung volume loss, silhouetting of the left cardiac border, and Luftsichel sign. Lateral chest radiograph shows anterior displacement of the major fissure and elevation of the left mainstem bronchus. CT of the chest reveals an obstructing mass and resultant LUL collapse.\",\n",
            "\t\t\"clip_indices\": [\n",
            "\t\t\t67503,\n",
            "\t\t\t67505,\n",
            "\t\t\t67504,\n",
            "\t\t\t11419,\n",
            "\t\t\t11418,\n",
            "\t\t\t3808,\n",
            "\t\t\t3807,\n",
            "\t\t\t15408,\n",
            "\t\t\t15409,\n",
            "\t\t\t10370,\n",
            "\t\t\t10371,\n",
            "\t\t\t26646,\n",
            "\t\t\t26647,\n",
            "\t\t\t171033,\n",
            "\t\t\t171032,\n",
            "\t\t\t40074,\n",
            "\t\t\t93595,\n",
            "\t\t\t93594,\n",
            "\t\t\t151593,\n",
            "\t\t\t265014,\n",
            "\t\t\t265013\n",
            "\t\t],\n",
            "\t\t\"split\": \"test\",\n",
            "\t\t\"labels\": [\n",
            "\t\t\t0,\n",
            "\t\t\t0,\n",
            "\t\t\t0,\n",
            "\t\t\t1,\n",
            "\t\t\t0,\n",
            "\t\t\t0,\n",
            "\t\t\t0,\n",
            "\t\t\t1,\n",
            "\t\t\t0,\n",
            "\t\t\t0,\n",
            "\t\t\t0,\n",
            "\t\t\t0,\n",
            "\t\t\t0,\n",
            "\t\t\t0\n",
            "\t\t]\n",
            "\t},\n",
            "\t{\n",
            "\t\t\"id\": \"MPX1016\",\n",
            "\t\t\"type\": \"CT\",\n",
            "\t\t\"image_path\": [\n",
            "\t\t\t\"MPX1016_synpic34317.png\"\n",
            "\t\t],\n",
            "\t\t\"report\": \"Chest PA/LAT revealed increased interstitial markings in the right lower lobe. Contrast enhanced chest CT revealed diffuse increased interstitial markings involving the right middle and lower lobes, pleural thickening/scarring of the posterior right lower lobe, and a small right-sided pleural effusion.\",\n",
            "\t\t\"clip_indices\": [\n",
            "\t\t\t260156,\n",
            "\t\t\t10371,\n",
            "\t\t\t10370,\n",
            "\t\t\t106294,\n",
            "\t\t\t106295,\n",
            "\t\t\t67935,\n",
            "\t\t\t67934,\n",
            "\t\t\t19751,\n",
            "\t\t\t19752,\n",
            "\t\t\t3808,\n",
            "\t\t\t3807,\n",
            "\t\t\t126234,\n",
            "\t\t\t126233,\n",
            "\t\t\t147172,\n",
            "\t\t\t121343,\n",
            "\t\t\t121342,\n",
            "\t\t\t126237,\n",
            "\t\t\t126236,\n",
            "\t\t\t126235,\n",
            "\t\t\t1808,\n",
            "\t\t\t1809\n",
            "\t\t],\n",
            "\t\t\"split\": \"test\",\n",
            "\t\t\"labels\": [\n",
            "\t\t\t0,\n",
            "\t\t\t0,\n",
            "\t\t\t1,\n",
            "\t\t\t0,\n",
            "\t\t\t0,\n",
            "\t\t\t0,\n",
            "\t\t\t0,\n",
            "\t\t\t0,\n",
            "\t\t\t0,\n",
            "\t\t\t1,\n",
            "\t\t\t1,\n",
            "\t\t\t0,\n",
            "\t\t\t0,\n",
            "\t\t\t0\n",
            "\t\t]\n",
            "\t}\n",
            "]\n"
          ]
        }
      ],
      "source": [
        "file_data = all_data[:3]\n",
        "print(json.dumps(file_data, ensure_ascii=False, indent='\\t'))"
      ]
    },
    {
      "cell_type": "code",
      "execution_count": 94,
      "metadata": {},
      "outputs": [],
      "source": [
        "with open('medpix_annotation_promptmrg.json', 'w', encoding='utf-8') as make_file:\n",
        "    json.dump(all_data, make_file, ensure_ascii=False, indent='\\t')"
      ]
    },
    {
      "cell_type": "markdown",
      "metadata": {},
      "source": [
        "## base_prob.json 만들기"
      ]
    },
    {
      "cell_type": "markdown",
      "metadata": {},
      "source": [
        "### 확인용 (mimic_cxr)"
      ]
    },
    {
      "cell_type": "code",
      "execution_count": 32,
      "metadata": {},
      "outputs": [],
      "source": [
        "import json\n",
        "\n",
        "mimic_annotation_path = '../mimic_cxr/mimic_annotation_promptmrg.json'\n",
        "with open(mimic_annotation_path, 'r', encoding='utf-8') as f:\n",
        "    mimic = json.load(f)"
      ]
    },
    {
      "cell_type": "code",
      "execution_count": 33,
      "metadata": {},
      "outputs": [],
      "source": [
        "mimic_labels = [each_data['labels'] for each_data in mimic['train']]\n",
        "mimic_train = mimic['train']\n",
        "\n",
        "mimic_labels_dict = {}\n",
        "\n",
        "for i in range(14):\n",
        "    mimic_labels_dict[f'labels_{i}'] = [each_data['labels'][i] for each_data in mimic_train]\n",
        "\n",
        "# count\n",
        "mimic_labels_count = {}\n",
        "\n",
        "# mimic_labels_count 초기화\n",
        "for score in range(4):\n",
        "    mimic_labels_count[f'scores_{score}'] = [0,0,0,0,0,0,0,0,0,0,0,0,0,0]\n",
        "\n",
        "# 레이블 카운트 계산\n",
        "for score in range(4):\n",
        "    for i in range(14):\n",
        "        for j in range(len(mimic_labels_dict[f'labels_{i}'])):\n",
        "            if mimic_labels_dict[f'labels_{i}'][j] == score:\n",
        "                mimic_labels_count[f'scores_{score}'][i] += 1"
      ]
    },
    {
      "cell_type": "code",
      "execution_count": 38,
      "metadata": {},
      "outputs": [
        {
          "name": "stdout",
          "output_type": "stream",
          "text": [
            "270790\n",
            "270790\n"
          ]
        }
      ],
      "source": [
        "print(len(mimic_labels_dict['labels_0']))\n",
        "print(len(mimic_labels_dict['labels_1']))"
      ]
    },
    {
      "cell_type": "code",
      "execution_count": 52,
      "metadata": {},
      "outputs": [
        {
          "name": "stdout",
          "output_type": "stream",
          "text": [
            "{'scores_0': [91983, 115482, 195152, 257240, 186970, 159403, 225212, 202560, 73866, 44332, 263661, 250710, 209517, 205959], 'scores_1': [14914, 60094, 67411, 10331, 20256, 7774, 8557, 56695, 6374, 48940, 5588, 10077, 60154, 64831], 'scores_2': [129078, 85040, 8012, 1954, 51129, 97082, 21890, 546, 188263, 170146, 61, 9435, 1086, 0], 'scores_3': [34815, 10174, 215, 1265, 12435, 6531, 15131, 10989, 2287, 7372, 1480, 568, 33, 0]}\n"
          ]
        }
      ],
      "source": [
        "print(mimic_labels_count)"
      ]
    },
    {
      "cell_type": "code",
      "execution_count": 43,
      "metadata": {},
      "outputs": [
        {
          "name": "stdout",
          "output_type": "stream",
          "text": [
            "441996\n"
          ]
        }
      ],
      "source": [
        "# total_sum = 0\n",
        "\n",
        "# for i in range(14):\n",
        "#     total_sum += mimic_labels_count[f'labels_{i}']\n",
        "    \n",
        "# print(total_sum) "
      ]
    },
    {
      "cell_type": "code",
      "execution_count": 44,
      "metadata": {},
      "outputs": [
        {
          "name": "stdout",
          "output_type": "stream",
          "text": [
            "{'labels_0': 0.033742386808930394, 'labels_1': 0.13596050642992244, 'labels_2': 0.15251495488646957, 'labels_3': 0.023373514692440655, 'labels_4': 0.045828469035918876, 'labels_5': 0.017588394465108282, 'labels_6': 0.019359903709535834, 'labels_7': 0.12827039158725417, 'labels_8': 0.014420944985927475, 'labels_9': 0.11072498393650622, 'labels_10': 0.012642648349758822, 'labels_11': 0.02279884885836071, 'labels_12': 0.13609625426474448, 'labels_13': 0.14667779798912206}\n"
          ]
        }
      ],
      "source": [
        "# mimic_labels_prob = {}\n",
        "\n",
        "# for i in range(14):\n",
        "#     mimic_labels_prob[f'labels_{i}'] = mimic_labels_count[f'labels_{i}'] / total_sum\n",
        "\n",
        "# print(mimic_labels_prob)"
      ]
    },
    {
      "cell_type": "code",
      "execution_count": 57,
      "metadata": {},
      "outputs": [
        {
          "name": "stdout",
          "output_type": "stream",
          "text": [
            "{'scores_0': 2482047, 'scores_1': 441996, 'scores_2': 763722, 'scores_3': 103295}\n"
          ]
        }
      ],
      "source": [
        "total_sum = {}\n",
        "for i in range(4):\n",
        "    total_sum[f'scores_{i}'] = 0\n",
        "    for j in range(14):\n",
        "        total_sum[f'scores_{i}'] += mimic_labels_count[f'scores_{i}'][j]\n",
        "        \n",
        "print(total_sum)"
      ]
    },
    {
      "cell_type": "code",
      "execution_count": 60,
      "metadata": {},
      "outputs": [
        {
          "name": "stdout",
          "output_type": "stream",
          "text": [
            "{'scores_0': [0.03705933046392756, 0.04652691911152367, 0.07862542490130123, 0.10364026144549238, 0.07532895227205609, 0.06422239385474973, 0.09073639620845214, 0.08161005814958379, 0.029760113325815345, 0.01786106387187672, 0.1062272390490591, 0.10100936847690636, 0.0844129865389334, 0.08297949233032251], 'scores_1': [0.033742386808930394, 0.13596050642992244, 0.15251495488646957, 0.023373514692440655, 0.045828469035918876, 0.017588394465108282, 0.019359903709535834, 0.12827039158725417, 0.014420944985927475, 0.11072498393650622, 0.012642648349758822, 0.02279884885836071, 0.13609625426474448, 0.14667779798912206], 'scores_2': [0.16901176082396474, 0.11134941772006043, 0.010490728301659504, 0.002558522603774672, 0.06694713521412242, 0.12711693521988368, 0.02866226192253202, 0.0007149198268479892, 0.24650723692652562, 0.2227852543202893, 7.987199530719293e-05, 0.012353971733169922, 0.001421983391862484, 0.0], 'scores_3': [0.33704438743404813, 0.09849460283653613, 0.0020814172999661165, 0.012246478532358778, 0.12038336802362166, 0.06322668086548236, 0.14648337286412702, 0.10638462655501234, 0.022140471465220968, 0.071368410862094, 0.014327895832324895, 0.005498814076189554, 0.0003194733530180551, 0.0]}\n"
          ]
        }
      ],
      "source": [
        "mimic_labels_prob = {}\n",
        "\n",
        "for score in range(4):\n",
        "    mimic_labels_prob[f'scores_{score}'] = []\n",
        "    \n",
        "for i in range(4):\n",
        "    for j in range(14):\n",
        "        prob = mimic_labels_count[f'scores_{i}'][j] / total_sum[f'scores_{i}']\n",
        "        mimic_labels_prob[f'scores_{i}'].append(prob)\n",
        "        \n",
        "print(mimic_labels_prob)"
      ]
    },
    {
      "cell_type": "code",
      "execution_count": 52,
      "metadata": {},
      "outputs": [
        {
          "name": "stdout",
          "output_type": "stream",
          "text": [
            "1.6322463901916615\n",
            "[0.0337423868089304, 0.13596050642992244, 0.15251495488646957, 0.023373514692440655, 0.045828469035918876, 0.017588394465108282, 0.019359903709535834, 0.12827039158725417, 0.014420944985927473, 0.1107249839365062, 0.01264264834975882, 0.022798848858360705, 0.13609625426474448, 0.14667779798912206]\n"
          ]
        }
      ],
      "source": [
        "a = [\n",
        "    0.05507588906532738,\n",
        "    0.2219210458288711,\n",
        "    0.24894198456368405,\n",
        "    0.03815133498282802,\n",
        "    0.07480335315188892,\n",
        "    0.02870859337493999,\n",
        "    0.03160013294434802,\n",
        "    0.2093688836367665,\n",
        "    0.02353853539643266,\n",
        "    0.18073045533439197,\n",
        "    0.0206359171313564,\n",
        "    0.037213338749584546,\n",
        "    0.22214261974223568,\n",
        "    0.23941430628900623\n",
        "]\n",
        "s = sum(a)\n",
        "print(s)\n",
        "a_divided = [data/s for data in a]\n",
        "print(a_divided)"
      ]
    },
    {
      "cell_type": "code",
      "execution_count": 54,
      "metadata": {},
      "outputs": [],
      "source": [
        "with open('../mimic_cxr/base_probs_divided.json', 'w', encoding='utf-8') as make_file:\n",
        "    json.dump(a_divided, make_file, ensure_ascii=False, indent='\\t')"
      ]
    },
    {
      "cell_type": "markdown",
      "metadata": {},
      "source": [
        "### medpix 데이터 기준"
      ]
    },
    {
      "cell_type": "code",
      "execution_count": 55,
      "metadata": {},
      "outputs": [],
      "source": [
        "import json\n",
        "\n",
        "medpix_annotation_path = 'medpix_annotation_promptmrg.json'\n",
        "with open(medpix_annotation_path, 'r', encoding='utf-8') as f:\n",
        "    medpix = json.load(f)"
      ]
    },
    {
      "cell_type": "code",
      "execution_count": 56,
      "metadata": {},
      "outputs": [],
      "source": [
        "medpix_labels = [each_data['labels'] for each_data in medpix]\n",
        "\n",
        "medpix_labels_dict = {}\n",
        "\n",
        "for i in range(14):\n",
        "    medpix_labels_dict[f'labels_{i}'] = [each_data['labels'][i] for each_data in medpix]\n",
        "\n",
        "\n",
        "# count\n",
        "medpix_labels_count = {}\n",
        "\n",
        "# medpix_labels_count 초기화\n",
        "for score in range(4):\n",
        "    medpix_labels_count[f'scores_{score}'] = [0,0,0,0,0,0,0,0,0,0,0,0,0,0]\n",
        "\n",
        "# 레이블 카운트 계산\n",
        "for score in range(4):\n",
        "    for i in range(14):\n",
        "        for j in range(len(medpix_labels_dict[f'labels_{i}'])):\n",
        "            if medpix_labels_dict[f'labels_{i}'][j] == score:\n",
        "                medpix_labels_count[f'scores_{score}'][i] += 1"
      ]
    },
    {
      "cell_type": "code",
      "execution_count": 57,
      "metadata": {},
      "outputs": [
        {
          "name": "stdout",
          "output_type": "stream",
          "text": [
            "{'labels_0': [0, 0, 0, 0, 0, 0, 0, 0, 0, 0, 0, 0, 1, 0, 0, 0, 1, 1, 1, 0, 0, 0, 2, 2, 2, 2, 2, 0, 0, 0, 0, 1, 1, 1, 1, 0, 0, 0, 0, 0, 0, 0, 0, 0, 0, 0, 0, 0, 0, 0, 0, 0, 0, 0, 0, 0, 0, 2, 2, 2, 2, 0, 0, 0, 0, 0, 0, 1, 0, 0, 0, 0, 0, 2, 2, 2, 2, 2, 2, 0, 0, 0, 0, 0, 0, 0, 0, 0, 0, 0, 0, 0, 0, 0, 0, 0, 0, 0, 0, 0, 1, 1, 0, 0, 0, 0, 0, 0, 0, 0, 0, 0, 0, 0, 0, 0, 0, 1, 1, 1, 1, 0, 0, 0, 0, 0, 0, 0, 0, 0, 0, 1, 1, 1, 1, 1, 0, 0, 0, 0, 0, 0, 0, 0, 0, 1, 0, 0, 0, 0, 0, 0, 0, 0, 0, 0, 0, 0, 0, 0, 0, 0, 0, 0, 0, 0, 0, 0, 0, 0, 0, 0, 0, 0, 0, 0, 0, 0, 0, 0, 0, 0, 0, 0, 0, 0, 0, 0, 1, 1, 0, 0, 0, 0, 0, 0, 0, 0, 0, 0, 0, 0, 0, 0, 0, 0, 0, 0, 0, 1, 1, 0, 0, 0, 0, 0, 1, 0, 0, 0, 0, 0, 0, 0, 0, 0, 0, 0, 0, 0, 0, 0, 0, 0, 0, 0, 0, 0, 0, 0, 0, 0, 1, 1, 0, 0, 0, 0, 0, 0, 0, 0, 0, 0, 0, 0, 0, 0, 0, 0, 0, 0, 0, 0, 0, 0, 0, 0, 0, 0, 0, 1, 1, 1, 1, 1, 1, 1, 1, 0, 0, 0, 0, 0, 0, 0, 0, 0, 0, 0, 0, 0, 0, 0, 0, 0, 0, 0, 0, 0, 0, 0, 0, 0, 0, 0, 0, 0, 0, 0, 0, 0, 0, 0, 0, 0, 0, 0, 0, 0, 0, 0, 0, 0, 0, 0, 0, 0, 0, 0, 0, 0, 0, 0], 'labels_1': [0, 0, 0, 0, 0, 0, 0, 0, 0, 0, 0, 0, 0, 0, 0, 0, 0, 0, 0, 0, 0, 0, 2, 2, 2, 2, 2, 0, 0, 0, 0, 0, 0, 0, 0, 2, 2, 2, 0, 0, 0, 0, 0, 0, 0, 0, 0, 0, 0, 0, 0, 0, 0, 0, 0, 0, 0, 0, 0, 0, 0, 0, 0, 0, 0, 0, 0, 0, 0, 0, 0, 0, 0, 0, 0, 0, 0, 0, 0, 0, 0, 0, 0, 0, 0, 0, 0, 0, 0, 0, 0, 0, 0, 0, 0, 0, 0, 0, 0, 0, 0, 0, 0, 0, 0, 0, 0, 0, 2, 2, 0, 0, 0, 0, 0, 0, 0, 0, 0, 0, 0, 0, 0, 0, 0, 0, 0, 0, 0, 0, 0, 0, 0, 0, 0, 0, 0, 0, 0, 0, 0, 0, 0, 0, 0, 0, 0, 0, 0, 0, 1, 0, 0, 0, 0, 0, 0, 0, 0, 0, 3, 3, 3, 3, 3, 3, 3, 3, 3, 3, 0, 0, 0, 0, 0, 0, 0, 0, 0, 0, 0, 1, 1, 1, 1, 1, 1, 1, 0, 0, 1, 0, 0, 0, 1, 1, 0, 0, 0, 0, 0, 0, 0, 0, 0, 0, 0, 0, 0, 0, 0, 2, 0, 0, 0, 0, 0, 0, 0, 1, 1, 0, 0, 0, 0, 0, 1, 1, 1, 0, 0, 0, 0, 0, 0, 0, 0, 0, 0, 0, 0, 0, 0, 0, 0, 0, 0, 0, 0, 0, 0, 0, 0, 0, 0, 0, 0, 0, 0, 0, 0, 1, 0, 0, 0, 0, 0, 0, 0, 0, 0, 0, 0, 0, 0, 0, 0, 0, 0, 0, 0, 0, 0, 0, 0, 0, 0, 0, 0, 0, 0, 0, 0, 0, 0, 0, 0, 0, 0, 0, 1, 1, 1, 0, 0, 0, 0, 0, 0, 0, 0, 0, 0, 0, 0, 0, 0, 0, 0, 0, 0, 0, 0, 0, 0, 0, 0, 0, 0, 0, 0, 0, 0, 0], 'labels_2': [0, 0, 1, 1, 1, 1, 1, 1, 0, 0, 0, 0, 0, 0, 0, 0, 1, 1, 1, 0, 0, 0, 0, 0, 0, 0, 0, 0, 1, 1, 0, 0, 0, 0, 0, 0, 0, 0, 0, 0, 0, 0, 0, 0, 0, 0, 0, 0, 0, 0, 0, 0, 0, 0, 0, 0, 0, 1, 1, 1, 1, 0, 0, 0, 0, 0, 0, 1, 1, 1, 1, 1, 1, 0, 0, 0, 0, 0, 0, 0, 1, 1, 1, 1, 1, 1, 1, 0, 0, 0, 0, 0, 0, 0, 1, 1, 0, 0, 0, 0, 1, 1, 0, 0, 0, 0, 0, 0, 0, 0, 0, 0, 0, 0, 0, 0, 1, 0, 0, 0, 0, 0, 0, 0, 0, 0, 0, 0, 0, 0, 0, 0, 1, 1, 1, 1, 0, 0, 0, 1, 1, 1, 1, 1, 1, 0, 0, 0, 0, 0, 0, 1, 1, 0, 0, 1, 0, 0, 0, 0, 0, 0, 0, 0, 0, 0, 0, 0, 0, 0, 0, 0, 0, 0, 0, 0, 0, 0, 0, 0, 0, 0, 0, 0, 0, 0, 0, 0, 0, 0, 0, 0, 0, 1, 0, 0, 0, 1, 0, 0, 0, 0, 0, 0, 0, 0, 0, 0, 0, 1, 1, 0, 0, 0, 0, 0, 1, 0, 0, 0, 0, 1, 1, 0, 0, 0, 0, 0, 0, 0, 0, 1, 0, 0, 0, 0, 0, 0, 0, 1, 1, 0, 0, 0, 0, 0, 1, 1, 1, 1, 1, 0, 0, 0, 0, 0, 0, 0, 0, 0, 0, 1, 0, 0, 0, 0, 0, 0, 0, 0, 0, 0, 0, 0, 0, 0, 0, 0, 0, 1, 0, 0, 0, 0, 0, 0, 0, 0, 0, 0, 0, 0, 0, 0, 0, 0, 0, 0, 0, 0, 0, 0, 0, 0, 0, 0, 0, 0, 0, 0, 0, 0, 0, 0, 0, 0, 0, 0, 0, 0, 0, 0, 0, 0, 0, 0, 0, 0, 0, 0, 0, 0, 0, 0], 'labels_3': [1, 1, 0, 0, 0, 0, 0, 0, 0, 0, 0, 0, 1, 0, 1, 1, 1, 1, 1, 0, 0, 0, 1, 1, 1, 1, 1, 0, 2, 2, 0, 1, 1, 1, 1, 0, 0, 0, 0, 0, 0, 0, 0, 0, 0, 0, 0, 0, 1, 1, 1, 1, 0, 0, 0, 0, 1, 0, 0, 0, 0, 1, 0, 0, 1, 1, 1, 0, 0, 0, 0, 1, 1, 0, 0, 0, 0, 0, 0, 0, 1, 1, 1, 2, 2, 2, 1, 1, 1, 1, 0, 1, 1, 1, 1, 1, 0, 0, 1, 0, 0, 0, 0, 0, 0, 0, 0, 0, 1, 1, 1, 1, 1, 1, 1, 0, 0, 0, 0, 0, 0, 1, 1, 1, 1, 1, 1, 1, 1, 1, 1, 1, 0, 0, 0, 0, 0, 0, 0, 1, 1, 1, 1, 1, 1, 1, 2, 2, 2, 2, 0, 1, 2, 1, 1, 0, 0, 0, 1, 1, 0, 0, 0, 0, 0, 0, 0, 0, 0, 0, 0, 0, 0, 0, 0, 0, 0, 0, 0, 1, 1, 0, 0, 0, 0, 0, 0, 0, 0, 0, 0, 0, 0, 1, 0, 0, 0, 0, 1, 1, 1, 1, 1, 1, 1, 0, 0, 0, 0, 0, 0, 1, 1, 0, 0, 0, 1, 1, 1, 0, 0, 0, 0, 1, 1, 0, 1, 1, 1, 0, 1, 1, 1, 1, 1, 1, 1, 1, 1, 0, 0, 0, 1, 1, 1, 1, 0, 0, 0, 0, 0, 0, 0, 0, 0, 0, 0, 0, 0, 0, 0, 1, 1, 1, 1, 1, 1, 1, 1, 1, 1, 0, 0, 0, 0, 0, 0, 0, 0, 0, 1, 1, 1, 1, 1, 1, 1, 1, 1, 1, 1, 1, 1, 1, 1, 1, 1, 1, 1, 1, 0, 0, 0, 0, 0, 0, 0, 0, 0, 0, 0, 0, 0, 0, 0, 1, 1, 1, 1, 1, 0, 0, 0, 0, 0, 0, 0, 0, 0, 0, 0, 0, 0, 0], 'labels_4': [0, 0, 0, 0, 0, 0, 0, 0, 0, 0, 0, 0, 0, 0, 0, 0, 0, 0, 0, 0, 0, 0, 0, 0, 0, 0, 0, 0, 0, 0, 0, 0, 0, 0, 0, 0, 0, 0, 0, 0, 0, 0, 0, 0, 0, 0, 0, 0, 0, 0, 0, 0, 0, 0, 0, 0, 0, 0, 0, 0, 0, 0, 0, 0, 0, 0, 0, 0, 0, 0, 0, 0, 0, 0, 0, 0, 0, 0, 0, 0, 0, 0, 0, 0, 0, 0, 0, 0, 0, 0, 0, 0, 0, 0, 0, 0, 0, 0, 0, 0, 0, 0, 0, 0, 0, 0, 0, 0, 2, 2, 0, 0, 0, 0, 0, 0, 0, 0, 0, 0, 0, 0, 0, 0, 0, 0, 0, 0, 0, 0, 0, 0, 0, 0, 0, 0, 0, 0, 0, 0, 0, 0, 0, 0, 0, 0, 0, 0, 0, 0, 0, 0, 0, 0, 0, 0, 0, 0, 0, 0, 0, 0, 0, 0, 0, 0, 0, 0, 0, 0, 0, 0, 0, 0, 0, 0, 0, 0, 0, 0, 0, 0, 0, 0, 0, 0, 0, 0, 0, 0, 0, 0, 0, 0, 0, 0, 0, 0, 0, 0, 0, 0, 0, 0, 0, 0, 0, 0, 0, 0, 0, 0, 0, 0, 0, 0, 0, 0, 0, 0, 0, 0, 0, 0, 0, 0, 0, 0, 0, 0, 0, 0, 0, 0, 0, 0, 0, 0, 0, 0, 0, 0, 0, 0, 0, 0, 0, 0, 0, 0, 0, 0, 0, 0, 0, 0, 0, 0, 0, 0, 0, 0, 0, 0, 0, 0, 0, 0, 0, 0, 0, 0, 0, 0, 0, 0, 0, 0, 0, 0, 0, 0, 0, 0, 0, 0, 0, 0, 0, 0, 0, 0, 0, 0, 0, 0, 0, 0, 0, 0, 0, 0, 0, 0, 0, 0, 0, 0, 0, 0, 0, 0, 0, 0, 0, 0, 0, 0, 0, 0, 0, 0, 0, 0, 0, 0, 0, 0, 0, 0, 0, 0, 0, 0], 'labels_5': [0, 0, 0, 0, 1, 0, 0, 0, 0, 0, 0, 0, 0, 0, 0, 0, 0, 0, 0, 0, 0, 0, 0, 0, 0, 0, 0, 0, 0, 0, 0, 0, 0, 0, 0, 0, 0, 0, 0, 0, 0, 0, 0, 0, 0, 0, 0, 0, 0, 0, 0, 0, 0, 0, 0, 0, 0, 0, 0, 0, 0, 0, 1, 1, 0, 0, 0, 0, 0, 0, 0, 1, 1, 0, 0, 0, 0, 0, 0, 0, 0, 0, 0, 0, 0, 0, 0, 1, 1, 1, 0, 2, 2, 2, 0, 0, 0, 0, 0, 0, 0, 0, 0, 0, 0, 0, 0, 0, 0, 0, 2, 0, 0, 0, 0, 0, 0, 0, 0, 0, 0, 0, 0, 0, 0, 0, 0, 0, 0, 0, 0, 0, 0, 0, 0, 0, 0, 0, 0, 1, 1, 1, 1, 1, 1, 0, 0, 0, 0, 0, 0, 0, 3, 0, 0, 0, 0, 0, 0, 0, 0, 0, 0, 0, 0, 0, 0, 0, 0, 0, 0, 0, 0, 0, 0, 0, 0, 0, 0, 1, 1, 1, 1, 1, 1, 1, 1, 0, 0, 0, 0, 0, 0, 0, 0, 0, 0, 0, 0, 0, 0, 0, 0, 0, 0, 0, 0, 0, 0, 1, 1, 2, 0, 0, 0, 0, 0, 0, 0, 0, 0, 0, 0, 0, 0, 0, 0, 0, 0, 0, 1, 0, 0, 0, 0, 0, 0, 0, 0, 0, 0, 0, 0, 0, 0, 0, 2, 2, 2, 2, 2, 0, 0, 0, 0, 0, 0, 0, 0, 0, 0, 0, 0, 0, 0, 0, 0, 0, 0, 0, 0, 0, 0, 0, 0, 0, 0, 0, 0, 0, 0, 0, 0, 0, 0, 0, 0, 0, 0, 0, 0, 0, 0, 0, 0, 0, 0, 0, 0, 0, 0, 0, 0, 0, 0, 0, 0, 0, 0, 0, 0, 0, 0, 0, 0, 0, 0, 0, 0, 0, 0, 0, 0, 0, 0, 0, 0, 0, 0, 0, 0, 0, 0, 0], 'labels_6': [0, 0, 0, 0, 0, 0, 0, 0, 0, 0, 0, 0, 0, 0, 0, 0, 0, 0, 0, 0, 0, 0, 0, 0, 0, 0, 0, 0, 0, 0, 0, 0, 0, 0, 0, 0, 0, 0, 0, 0, 0, 0, 0, 0, 0, 0, 0, 0, 0, 0, 0, 0, 0, 0, 0, 0, 0, 0, 0, 0, 0, 0, 0, 0, 0, 0, 0, 0, 0, 0, 0, 0, 0, 0, 0, 0, 0, 0, 0, 0, 0, 0, 0, 0, 0, 0, 0, 0, 0, 0, 0, 0, 0, 0, 0, 0, 0, 0, 0, 0, 0, 0, 0, 0, 0, 0, 0, 0, 0, 0, 0, 0, 0, 0, 0, 0, 0, 0, 0, 0, 0, 0, 0, 0, 0, 0, 0, 0, 0, 0, 0, 0, 0, 0, 0, 0, 0, 0, 0, 0, 0, 0, 0, 0, 0, 0, 0, 0, 0, 0, 0, 0, 0, 0, 0, 0, 0, 0, 0, 0, 0, 0, 0, 0, 0, 0, 0, 0, 0, 0, 0, 0, 0, 0, 0, 0, 0, 0, 0, 0, 0, 0, 0, 0, 0, 0, 0, 0, 0, 0, 0, 0, 0, 0, 0, 0, 0, 0, 0, 0, 0, 0, 0, 0, 0, 0, 0, 0, 0, 1, 1, 0, 0, 0, 0, 0, 0, 0, 0, 0, 0, 1, 1, 0, 0, 0, 0, 0, 0, 0, 0, 0, 0, 0, 0, 0, 0, 0, 0, 0, 0, 0, 0, 0, 0, 0, 1, 1, 1, 1, 1, 0, 0, 0, 0, 0, 0, 0, 0, 0, 0, 0, 0, 0, 0, 0, 0, 0, 0, 0, 0, 0, 0, 0, 0, 0, 0, 0, 0, 0, 0, 0, 0, 0, 0, 0, 0, 0, 0, 0, 0, 0, 0, 0, 0, 0, 0, 0, 0, 0, 0, 0, 0, 0, 0, 0, 0, 0, 0, 0, 0, 0, 0, 0, 0, 0, 0, 0, 0, 0, 0, 0, 0, 0, 0, 0, 0, 0, 0, 0, 0, 0, 0, 0], 'labels_7': [1, 1, 0, 0, 0, 0, 0, 0, 1, 0, 0, 0, 0, 0, 0, 0, 0, 0, 0, 1, 1, 1, 0, 0, 0, 0, 0, 0, 0, 0, 0, 0, 0, 0, 0, 0, 0, 0, 0, 0, 0, 0, 0, 0, 0, 0, 0, 0, 0, 0, 0, 0, 0, 0, 0, 0, 0, 0, 0, 0, 0, 0, 0, 0, 0, 0, 0, 0, 0, 0, 0, 0, 0, 0, 0, 0, 0, 0, 0, 0, 0, 0, 0, 0, 0, 0, 0, 1, 1, 1, 0, 0, 0, 0, 0, 0, 1, 1, 0, 0, 3, 3, 0, 0, 0, 0, 0, 0, 0, 0, 0, 0, 0, 0, 0, 0, 0, 0, 0, 0, 0, 0, 0, 0, 0, 0, 0, 0, 0, 0, 0, 0, 0, 0, 0, 0, 0, 0, 0, 0, 0, 0, 0, 0, 0, 0, 0, 0, 0, 0, 0, 0, 1, 0, 0, 0, 0, 0, 0, 0, 0, 0, 0, 0, 0, 0, 0, 0, 0, 0, 0, 0, 0, 0, 0, 0, 0, 0, 0, 0, 0, 1, 1, 1, 1, 1, 1, 1, 0, 0, 1, 0, 0, 0, 0, 0, 0, 1, 0, 0, 0, 0, 0, 0, 0, 0, 0, 0, 0, 0, 0, 0, 0, 0, 0, 0, 0, 1, 1, 1, 1, 0, 0, 0, 1, 0, 0, 0, 0, 0, 0, 0, 1, 1, 1, 1, 1, 1, 0, 0, 1, 0, 0, 0, 0, 0, 0, 0, 0, 0, 0, 0, 0, 0, 0, 0, 0, 0, 0, 0, 0, 0, 0, 0, 0, 0, 0, 0, 0, 0, 0, 0, 0, 0, 0, 0, 0, 0, 0, 0, 0, 0, 0, 0, 0, 0, 0, 0, 0, 0, 0, 0, 0, 0, 0, 0, 0, 0, 0, 0, 0, 0, 0, 0, 0, 0, 0, 0, 0, 0, 0, 0, 0, 0, 0, 0, 0, 0, 0, 0, 0, 0, 0, 0, 0, 0, 0, 0, 0, 0, 0, 0, 0, 0], 'labels_8': [0, 0, 0, 0, 0, 0, 0, 0, 0, 0, 0, 0, 0, 0, 0, 0, 0, 0, 0, 0, 0, 0, 0, 0, 0, 0, 0, 0, 0, 0, 0, 0, 0, 0, 0, 0, 0, 0, 0, 0, 0, 0, 0, 0, 0, 0, 0, 0, 0, 0, 0, 0, 1, 1, 1, 0, 0, 0, 0, 0, 0, 0, 0, 0, 0, 0, 0, 0, 0, 0, 0, 0, 0, 0, 0, 0, 0, 0, 0, 0, 0, 0, 0, 0, 0, 0, 0, 2, 2, 2, 0, 0, 0, 0, 0, 0, 1, 1, 0, 0, 0, 0, 0, 0, 0, 0, 0, 0, 0, 0, 0, 0, 0, 0, 0, 0, 0, 0, 0, 0, 0, 0, 2, 2, 2, 2, 2, 2, 2, 2, 0, 0, 0, 0, 0, 0, 0, 0, 0, 1, 1, 1, 1, 1, 1, 0, 0, 0, 0, 0, 0, 0, 2, 0, 0, 0, 0, 0, 0, 0, 0, 0, 0, 0, 0, 0, 0, 0, 0, 0, 0, 0, 0, 0, 0, 0, 0, 0, 0, 0, 0, 0, 0, 0, 0, 0, 0, 0, 0, 0, 0, 0, 0, 0, 0, 0, 0, 0, 0, 0, 0, 0, 0, 0, 0, 0, 0, 0, 0, 0, 0, 2, 0, 0, 0, 0, 0, 0, 0, 0, 0, 1, 1, 0, 0, 0, 0, 0, 0, 0, 0, 0, 0, 0, 0, 0, 0, 0, 0, 1, 0, 0, 0, 0, 0, 0, 0, 0, 0, 0, 0, 0, 0, 0, 0, 0, 0, 0, 0, 0, 0, 0, 0, 0, 0, 0, 0, 0, 0, 0, 0, 0, 0, 0, 0, 0, 0, 0, 0, 0, 0, 0, 0, 0, 0, 0, 0, 0, 0, 0, 0, 0, 0, 0, 0, 0, 0, 0, 0, 0, 0, 0, 0, 0, 0, 0, 0, 0, 0, 0, 0, 0, 0, 0, 0, 0, 0, 0, 0, 0, 0, 0, 0, 0, 0, 0, 0, 0, 0, 0, 0, 0, 0, 0], 'labels_9': [0, 0, 1, 1, 0, 0, 0, 0, 1, 0, 0, 0, 0, 0, 0, 0, 0, 0, 0, 0, 0, 0, 0, 0, 0, 0, 0, 0, 2, 2, 0, 0, 0, 0, 0, 0, 0, 0, 0, 0, 0, 0, 0, 0, 0, 0, 0, 0, 0, 0, 0, 0, 0, 0, 0, 0, 0, 0, 0, 0, 0, 0, 1, 1, 1, 1, 1, 0, 0, 0, 0, 0, 0, 0, 0, 0, 0, 0, 0, 0, 1, 1, 1, 2, 2, 2, 0, 2, 2, 2, 0, 0, 0, 0, 0, 0, 1, 1, 0, 0, 0, 0, 0, 0, 0, 0, 0, 0, 0, 0, 2, 0, 0, 0, 0, 0, 0, 0, 0, 0, 0, 0, 2, 2, 2, 2, 2, 2, 2, 2, 0, 1, 0, 0, 0, 0, 0, 0, 0, 1, 1, 1, 1, 1, 1, 0, 0, 0, 0, 0, 0, 0, 1, 0, 0, 0, 0, 0, 0, 0, 0, 0, 0, 0, 0, 0, 0, 0, 0, 0, 0, 0, 0, 0, 0, 0, 0, 0, 0, 1, 1, 0, 0, 0, 0, 0, 0, 0, 0, 0, 1, 0, 0, 0, 0, 0, 1, 0, 0, 0, 0, 0, 0, 0, 0, 0, 0, 0, 0, 0, 0, 2, 0, 0, 0, 0, 0, 1, 1, 0, 0, 0, 0, 0, 0, 0, 0, 0, 0, 0, 0, 0, 0, 0, 0, 0, 0, 0, 0, 0, 0, 0, 1, 1, 0, 0, 0, 0, 0, 0, 0, 0, 0, 0, 0, 0, 0, 0, 1, 1, 0, 0, 0, 0, 0, 0, 0, 0, 0, 0, 0, 0, 0, 0, 0, 0, 0, 0, 0, 1, 0, 0, 0, 0, 0, 0, 0, 0, 0, 0, 0, 0, 0, 0, 0, 0, 0, 0, 0, 0, 0, 0, 0, 0, 0, 0, 0, 0, 0, 0, 0, 0, 0, 0, 0, 0, 0, 0, 0, 0, 0, 0, 0, 0, 0, 0, 0, 0, 0, 0, 0, 0, 0, 0], 'labels_10': [0, 0, 1, 1, 1, 0, 0, 0, 0, 0, 0, 0, 0, 0, 0, 0, 0, 0, 0, 0, 0, 0, 0, 0, 0, 0, 0, 0, 0, 0, 0, 0, 0, 0, 0, 0, 0, 0, 0, 0, 0, 0, 0, 0, 0, 0, 0, 0, 0, 0, 0, 0, 0, 0, 0, 0, 0, 0, 0, 0, 0, 0, 0, 0, 1, 1, 1, 0, 1, 0, 0, 0, 0, 0, 0, 0, 0, 0, 0, 0, 0, 0, 0, 0, 0, 0, 1, 0, 0, 0, 0, 0, 0, 0, 0, 0, 0, 0, 0, 0, 0, 0, 0, 0, 0, 0, 0, 1, 0, 0, 0, 0, 0, 0, 0, 2, 1, 0, 0, 0, 0, 0, 1, 1, 1, 1, 1, 1, 1, 1, 0, 0, 0, 0, 0, 0, 0, 0, 0, 0, 0, 0, 0, 0, 0, 0, 1, 1, 1, 1, 0, 1, 3, 0, 0, 0, 0, 0, 0, 0, 0, 0, 0, 0, 0, 0, 0, 0, 0, 0, 0, 0, 0, 0, 0, 0, 0, 0, 0, 0, 0, 0, 0, 0, 0, 0, 0, 0, 0, 0, 0, 0, 0, 0, 0, 0, 0, 0, 0, 0, 0, 0, 0, 0, 0, 0, 0, 0, 0, 0, 0, 0, 0, 0, 0, 0, 0, 0, 0, 0, 0, 0, 0, 0, 0, 0, 0, 0, 0, 0, 0, 1, 0, 0, 0, 0, 0, 0, 0, 0, 0, 0, 0, 0, 1, 1, 0, 0, 0, 0, 0, 0, 0, 0, 0, 0, 0, 0, 0, 0, 0, 0, 0, 0, 0, 0, 0, 0, 0, 0, 0, 0, 0, 0, 0, 0, 0, 0, 0, 0, 0, 0, 0, 0, 0, 0, 0, 0, 0, 0, 0, 0, 0, 0, 0, 0, 0, 0, 0, 0, 0, 0, 0, 0, 0, 0, 0, 0, 0, 0, 0, 0, 0, 0, 0, 0, 0, 0, 0, 0, 0, 0, 0, 0, 0, 0, 0, 0, 0, 0, 0, 0, 0, 0], 'labels_11': [0, 0, 0, 0, 0, 0, 0, 0, 0, 0, 0, 0, 0, 0, 0, 0, 0, 0, 0, 0, 0, 0, 0, 0, 0, 0, 0, 0, 0, 0, 0, 0, 0, 0, 0, 0, 0, 0, 0, 0, 0, 0, 0, 0, 0, 0, 0, 0, 0, 0, 0, 0, 0, 0, 0, 0, 0, 0, 0, 0, 0, 0, 0, 0, 0, 0, 0, 0, 0, 0, 0, 0, 0, 0, 0, 0, 0, 0, 0, 0, 0, 0, 0, 0, 0, 0, 0, 0, 0, 0, 0, 0, 0, 0, 0, 0, 1, 1, 0, 0, 0, 0, 0, 0, 0, 0, 0, 0, 1, 1, 0, 0, 0, 0, 0, 0, 0, 0, 0, 0, 0, 0, 0, 0, 0, 0, 0, 0, 0, 0, 0, 0, 0, 0, 0, 0, 0, 0, 0, 0, 0, 0, 0, 0, 0, 0, 0, 0, 0, 0, 0, 0, 0, 0, 0, 0, 0, 0, 0, 0, 0, 0, 0, 0, 0, 0, 0, 0, 0, 0, 0, 0, 0, 0, 0, 0, 0, 0, 0, 0, 0, 0, 0, 0, 0, 0, 0, 0, 0, 0, 0, 0, 0, 0, 0, 0, 0, 0, 0, 0, 0, 0, 0, 0, 0, 0, 0, 0, 0, 0, 0, 0, 0, 0, 0, 0, 0, 0, 0, 0, 0, 0, 0, 0, 0, 0, 0, 0, 0, 0, 0, 0, 0, 0, 0, 0, 0, 0, 0, 0, 0, 0, 0, 0, 0, 0, 0, 0, 0, 0, 0, 0, 0, 0, 0, 0, 0, 0, 0, 0, 0, 0, 0, 0, 0, 0, 0, 0, 0, 0, 0, 0, 0, 0, 0, 0, 0, 0, 0, 0, 0, 0, 0, 0, 0, 0, 0, 0, 0, 0, 0, 0, 0, 0, 0, 0, 0, 0, 0, 0, 0, 0, 0, 0, 0, 0, 0, 0, 0, 0, 0, 0, 0, 0, 0, 0, 0, 0, 0, 0, 0, 0, 0, 0, 0, 0, 0, 0, 0, 0, 0, 0, 0, 0], 'labels_12': [0, 0, 0, 0, 0, 0, 0, 0, 0, 0, 0, 0, 0, 1, 0, 0, 0, 0, 0, 0, 0, 0, 0, 0, 0, 0, 0, 0, 0, 0, 0, 0, 0, 0, 0, 0, 0, 0, 0, 0, 0, 0, 0, 0, 0, 0, 0, 0, 0, 0, 0, 0, 1, 1, 1, 0, 0, 0, 0, 0, 0, 0, 1, 1, 0, 0, 0, 0, 0, 0, 0, 0, 0, 0, 0, 0, 0, 0, 0, 0, 0, 0, 0, 0, 0, 0, 0, 0, 0, 0, 0, 0, 0, 0, 0, 0, 1, 1, 0, 0, 0, 0, 0, 0, 0, 0, 0, 0, 0, 0, 1, 0, 0, 0, 0, 0, 0, 0, 0, 0, 0, 0, 0, 0, 0, 0, 0, 0, 0, 0, 0, 0, 0, 0, 0, 0, 0, 0, 0, 1, 1, 1, 1, 1, 1, 0, 0, 0, 0, 0, 0, 0, 0, 0, 0, 1, 1, 0, 0, 0, 0, 0, 0, 0, 0, 0, 0, 0, 0, 0, 0, 0, 0, 0, 0, 0, 0, 0, 0, 0, 0, 1, 1, 1, 1, 1, 1, 1, 0, 0, 0, 0, 0, 0, 0, 0, 0, 0, 0, 0, 0, 0, 0, 0, 0, 0, 0, 0, 0, 0, 0, 0, 0, 0, 0, 0, 0, 0, 0, 1, 1, 1, 1, 0, 0, 0, 0, 0, 0, 0, 1, 0, 0, 0, 0, 0, 0, 0, 0, 1, 0, 0, 1, 1, 0, 0, 0, 0, 0, 0, 0, 0, 0, 0, 0, 0, 0, 0, 0, 0, 0, 0, 0, 0, 0, 0, 0, 0, 0, 0, 0, 0, 0, 0, 0, 0, 0, 0, 0, 0, 0, 0, 0, 0, 0, 0, 0, 0, 0, 0, 0, 0, 0, 0, 0, 0, 0, 0, 0, 0, 0, 0, 0, 0, 0, 0, 0, 0, 0, 0, 0, 0, 0, 0, 0, 0, 0, 0, 0, 0, 0, 0, 0, 0, 0, 0, 0, 1, 1, 1, 1, 1, 0, 0], 'labels_13': [0, 0, 0, 0, 0, 0, 0, 0, 0, 0, 0, 0, 0, 0, 0, 0, 0, 0, 0, 0, 0, 0, 0, 0, 0, 0, 0, 0, 0, 0, 0, 0, 0, 0, 0, 0, 0, 0, 0, 0, 0, 1, 1, 1, 1, 1, 1, 0, 0, 0, 0, 0, 0, 0, 0, 0, 0, 0, 0, 0, 0, 0, 0, 0, 0, 0, 0, 0, 0, 0, 0, 0, 0, 1, 1, 1, 1, 1, 1, 0, 0, 0, 0, 0, 0, 0, 0, 0, 0, 0, 1, 0, 0, 0, 0, 0, 0, 0, 0, 1, 0, 0, 1, 1, 1, 1, 1, 0, 0, 0, 0, 0, 0, 0, 0, 0, 0, 0, 0, 0, 0, 0, 0, 0, 0, 0, 0, 0, 0, 0, 0, 0, 0, 0, 0, 0, 0, 0, 0, 0, 0, 0, 0, 0, 0, 0, 0, 0, 0, 0, 0, 0, 0, 0, 0, 0, 1, 0, 0, 0, 0, 0, 0, 0, 0, 0, 0, 0, 0, 0, 1, 1, 1, 1, 1, 1, 1, 1, 1, 0, 0, 0, 0, 0, 0, 0, 0, 0, 0, 0, 0, 0, 0, 0, 0, 0, 0, 0, 0, 0, 0, 0, 0, 0, 0, 0, 0, 0, 0, 0, 0, 0, 0, 0, 0, 0, 0, 0, 0, 0, 0, 0, 0, 0, 0, 0, 0, 0, 0, 0, 0, 0, 0, 0, 0, 0, 0, 0, 0, 0, 0, 1, 0, 0, 0, 0, 0, 0, 0, 0, 0, 0, 0, 0, 0, 0, 0, 0, 0, 0, 0, 0, 0, 0, 0, 0, 0, 0, 0, 0, 0, 0, 0, 0, 0, 0, 0, 0, 0, 0, 0, 0, 0, 0, 0, 0, 0, 0, 0, 0, 0, 0, 0, 0, 0, 0, 0, 0, 0, 0, 0, 0, 0, 0, 0, 0, 0, 0, 0, 0, 0, 0, 0, 0, 0, 0, 0, 0, 0, 0, 0, 0, 0, 0, 0, 0, 0, 0, 0, 0, 0, 0, 0, 0]}\n",
            "{'scores_0': [283, 293, 271, 185, 332, 298, 325, 299, 307, 284, 306, 330, 297, 304], 'scores_1': [36, 20, 63, 139, 0, 25, 9, 33, 14, 32, 26, 4, 37, 30], 'scores_2': [15, 11, 0, 10, 2, 10, 0, 0, 13, 18, 1, 0, 0, 0], 'scores_3': [0, 10, 0, 0, 0, 1, 0, 2, 0, 0, 1, 0, 0, 0]}\n"
          ]
        }
      ],
      "source": [
        "print(medpix_labels_dict)\n",
        "print(medpix_labels_count)"
      ]
    },
    {
      "cell_type": "code",
      "execution_count": 58,
      "metadata": {},
      "outputs": [
        {
          "name": "stdout",
          "output_type": "stream",
          "text": [
            "{'scores_0': 4114, 'scores_1': 468, 'scores_2': 80, 'scores_3': 14}\n"
          ]
        }
      ],
      "source": [
        "medpix_total_sum = {}\n",
        "for i in range(4):\n",
        "    medpix_total_sum[f'scores_{i}'] = 0\n",
        "    for j in range(14):\n",
        "        medpix_total_sum[f'scores_{i}'] += medpix_labels_count[f'scores_{i}'][j]\n",
        "        \n",
        "print(medpix_total_sum)"
      ]
    },
    {
      "cell_type": "code",
      "execution_count": 59,
      "metadata": {},
      "outputs": [
        {
          "name": "stdout",
          "output_type": "stream",
          "text": [
            "{'scores_0': [0.06878949927078269, 0.07122022362664074, 0.06587263004375304, 0.04496840058337385, 0.08070004861448711, 0.07243558580456977, 0.07899854156538648, 0.07267865824015557, 0.074623237724842, 0.06903257170636849, 0.0743801652892562, 0.08021390374331551, 0.07219251336898395, 0.07389402041808459], 'scores_1': [0.07692307692307693, 0.042735042735042736, 0.1346153846153846, 0.297008547008547, 0.0, 0.053418803418803416, 0.019230769230769232, 0.07051282051282051, 0.029914529914529916, 0.06837606837606838, 0.05555555555555555, 0.008547008547008548, 0.07905982905982906, 0.0641025641025641], 'scores_2': [0.1875, 0.1375, 0.0, 0.125, 0.025, 0.125, 0.0, 0.0, 0.1625, 0.225, 0.0125, 0.0, 0.0, 0.0], 'scores_3': [0.0, 0.7142857142857143, 0.0, 0.0, 0.0, 0.07142857142857142, 0.0, 0.14285714285714285, 0.0, 0.0, 0.07142857142857142, 0.0, 0.0, 0.0]}\n"
          ]
        }
      ],
      "source": [
        "medpix_labels_prob = {}\n",
        "\n",
        "for score in range(4):\n",
        "    medpix_labels_prob[f'scores_{score}'] = []\n",
        "    \n",
        "for i in range(4):\n",
        "    for j in range(14):\n",
        "        prob = medpix_labels_count[f'scores_{i}'][j] / medpix_total_sum[f'scores_{i}']\n",
        "        medpix_labels_prob[f'scores_{i}'].append(prob)\n",
        "        \n",
        "print(medpix_labels_prob)"
      ]
    },
    {
      "cell_type": "code",
      "execution_count": 60,
      "metadata": {},
      "outputs": [],
      "source": [
        "with open('base_probs_medpix.json', 'w', encoding='utf-8') as make_file:\n",
        "    json.dump(medpix_labels_prob['scores_1'], make_file, ensure_ascii=False, indent='\\t')"
      ]
    },
    {
      "cell_type": "code",
      "execution_count": 16,
      "metadata": {},
      "outputs": [
        {
          "data": {
            "image/png": "[encoded data removed]",
            "text/plain": [
              "<Figure size 640x480 with 4 Axes>"
            ]
          },
          "metadata": {},
          "output_type": "display_data"
        }
      ],
      "source": [
        "import matplotlib.pyplot as plt \n",
        "\n",
        "x = [0,1,2,3,4,5,6,7,8,9,10,11,12,13]\n",
        "for i in range(4):\n",
        "    plt.subplot(1,4,i+1)\n",
        "    plt.title(f'scores_{i}')\n",
        "    plt.bar(x, medpix_labels_prob[f'scores_{i}'])"
      ]
    },
    {
      "cell_type": "markdown",
      "metadata": {},
      "source": [
        "위에서 1이 positive token"
      ]
    },
    {
      "cell_type": "markdown",
      "metadata": {},
      "source": []
    }
  ],
  "metadata": {
    "accelerator": "GPU",
    "colab": {
      "gpuType": "T4",
      "provenance": []
    },
    "kernelspec": {
      "display_name": "venv",
      "language": "python",
      "name": "python3"
    },
    "language_info": {
      "codemirror_mode": {
        "name": "ipython",
        "version": 3
      },
      "file_extension": ".py",
      "mimetype": "text/x-python",
      "name": "python",
      "nbconvert_exporter": "python",
      "pygments_lexer": "ipython3",
      "version": "3.12.3"
    }
  },
  "nbformat": 4,
  "nbformat_minor": 0
}
